{
 "cells": [
  {
   "cell_type": "code",
   "execution_count": 1,
   "metadata": {
    "collapsed": true
   },
   "outputs": [],
   "source": [
    "#https://github.com/rstats-db/RMySQL"
   ]
  },
  {
   "cell_type": "code",
   "execution_count": 2,
   "metadata": {
    "collapsed": true
   },
   "outputs": [],
   "source": [
    "#install.packages(\"RMySQL\")\n",
    "#install.packages(\"devtools\")\n",
    "#devtools::install_github(\"rstats-db/DBI\")\n",
    "#devtools::install_github(\"rstats-db/RMySQL\")"
   ]
  },
  {
   "cell_type": "code",
   "execution_count": 3,
   "metadata": {
    "collapsed": true
   },
   "outputs": [],
   "source": [
    "#library(DBI)\n",
    "library(RMySQL)\n",
    "# Connect to my-db as defined in ~/.my.cnf\n",
    "con <- dbConnect(RMySQL::MySQL(), group=\"sem_analyst\")"
   ]
  },
  {
   "cell_type": "code",
   "execution_count": 4,
   "metadata": {
    "collapsed": true
   },
   "outputs": [],
   "source": [
    "res <- dbSendQuery(con, \n",
    "       \"select * from t_ga_sampled_sessions_summarized where country='AQ'\")"
   ]
  },
  {
   "cell_type": "code",
   "execution_count": 5,
   "metadata": {
    "collapsed": true
   },
   "outputs": [],
   "source": [
    "df <- dbFetch(res)"
   ]
  },
  {
   "cell_type": "code",
   "execution_count": 6,
   "metadata": {},
   "outputs": [
    {
     "data": {
      "text/html": [
       "<table>\n",
       "<thead><tr><th scope=col>id</th><th scope=col>activity_date</th><th scope=col>country</th><th scope=col>channel</th><th scope=col>sessions</th></tr></thead>\n",
       "<tbody>\n",
       "\t<tr><td>2233      </td><td>2017-01-01</td><td>AQ        </td><td>direct    </td><td>18        </td></tr>\n",
       "\t<tr><td>2234      </td><td>2017-01-01</td><td>AQ        </td><td>email     </td><td>95        </td></tr>\n",
       "\t<tr><td>2235      </td><td>2017-01-01</td><td>AQ        </td><td>publisher </td><td> 1        </td></tr>\n",
       "\t<tr><td>2236      </td><td>2017-01-01</td><td>AQ        </td><td>referral  </td><td>15        </td></tr>\n",
       "\t<tr><td>2237      </td><td>2017-01-01</td><td>AQ        </td><td>sem       </td><td> 2        </td></tr>\n",
       "\t<tr><td>2238      </td><td>2017-01-01</td><td>AQ        </td><td>seo       </td><td>95        </td></tr>\n",
       "</tbody>\n",
       "</table>\n"
      ],
      "text/latex": [
       "\\begin{tabular}{r|lllll}\n",
       " id & activity\\_date & country & channel & sessions\\\\\n",
       "\\hline\n",
       "\t 2233       & 2017-01-01 & AQ         & direct     & 18        \\\\\n",
       "\t 2234       & 2017-01-01 & AQ         & email      & 95        \\\\\n",
       "\t 2235       & 2017-01-01 & AQ         & publisher  &  1        \\\\\n",
       "\t 2236       & 2017-01-01 & AQ         & referral   & 15        \\\\\n",
       "\t 2237       & 2017-01-01 & AQ         & sem        &  2        \\\\\n",
       "\t 2238       & 2017-01-01 & AQ         & seo        & 95        \\\\\n",
       "\\end{tabular}\n"
      ],
      "text/markdown": [
       "\n",
       "id | activity_date | country | channel | sessions | \n",
       "|---|---|---|---|---|---|\n",
       "| 2233       | 2017-01-01 | AQ         | direct     | 18         | \n",
       "| 2234       | 2017-01-01 | AQ         | email      | 95         | \n",
       "| 2235       | 2017-01-01 | AQ         | publisher  |  1         | \n",
       "| 2236       | 2017-01-01 | AQ         | referral   | 15         | \n",
       "| 2237       | 2017-01-01 | AQ         | sem        |  2         | \n",
       "| 2238       | 2017-01-01 | AQ         | seo        | 95         | \n",
       "\n",
       "\n"
      ],
      "text/plain": [
       "  id   activity_date country channel   sessions\n",
       "1 2233 2017-01-01    AQ      direct    18      \n",
       "2 2234 2017-01-01    AQ      email     95      \n",
       "3 2235 2017-01-01    AQ      publisher  1      \n",
       "4 2236 2017-01-01    AQ      referral  15      \n",
       "5 2237 2017-01-01    AQ      sem        2      \n",
       "6 2238 2017-01-01    AQ      seo       95      "
      ]
     },
     "metadata": {},
     "output_type": "display_data"
    }
   ],
   "source": [
    "head(df)[,]"
   ]
  },
  {
   "cell_type": "code",
   "execution_count": 7,
   "metadata": {
    "collapsed": true
   },
   "outputs": [],
   "source": [
    "#dbListTables(con)"
   ]
  },
  {
   "cell_type": "code",
   "execution_count": 8,
   "metadata": {
    "collapsed": true
   },
   "outputs": [],
   "source": [
    "# Disconnect from the database\n",
    "# dbDisconnect(con)"
   ]
  },
  {
   "cell_type": "code",
   "execution_count": null,
   "metadata": {
    "collapsed": true
   },
   "outputs": [],
   "source": []
  }
 ],
 "metadata": {
  "kernelspec": {
   "display_name": "R 3.3.2 mconda2-latest",
   "language": "R",
   "name": "r-condaenv"
  },
  "language_info": {
   "codemirror_mode": "r",
   "file_extension": ".r",
   "mimetype": "text/x-r-source",
   "name": "R",
   "pygments_lexer": "r",
   "version": "3.3.2"
  }
 },
 "nbformat": 4,
 "nbformat_minor": 2
}
