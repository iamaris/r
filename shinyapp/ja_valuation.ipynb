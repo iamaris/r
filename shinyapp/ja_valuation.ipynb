{
 "cells": [
  {
   "cell_type": "code",
   "execution_count": 1,
   "metadata": {
    "collapsed": true
   },
   "outputs": [],
   "source": [
    "import iql"
   ]
  },
  {
   "cell_type": "code",
   "execution_count": 2,
   "metadata": {
    "collapsed": true
   },
   "outputs": [],
   "source": [
    "import numpy as np"
   ]
  },
  {
   "cell_type": "code",
   "execution_count": 3,
   "metadata": {},
   "outputs": [],
   "source": [
    "import pandas as pd\n",
    "import seaborn as sns"
   ]
  },
  {
   "cell_type": "code",
   "execution_count": 4,
   "metadata": {
    "collapsed": true
   },
   "outputs": [],
   "source": [
    "from scipy import stats, integrate"
   ]
  },
  {
   "cell_type": "code",
   "execution_count": 5,
   "metadata": {
    "collapsed": true
   },
   "outputs": [],
   "source": [
    "import matplotlib.pyplot as plt\n",
    "%matplotlib inline"
   ]
  },
  {
   "cell_type": "code",
   "execution_count": 6,
   "metadata": {
    "collapsed": true
   },
   "outputs": [],
   "source": [
    "class multiplier_valuation(object):\n",
    "    def __init__(self, metric='job_alert_creations', country='US', start='2017-01-01', end='2017-06-01', strict=True):\n",
    "        self._metric = metric\n",
    "        self._country = country\n",
    "        self._start = start\n",
    "        self._end = end\n",
    "        self._no_metric = None\n",
    "        self._with_metric = None\n",
    "        self._strict = strict\n",
    "        \n",
    "        \n",
    "    def show_params(self):\n",
    "        print self._metric, self._country, self._start, self._end\n",
    "        \n",
    "    def show_data(self):\n",
    "        return dict(no_metric=self._no_metric, with_metric=self._with_metric)\n",
    "    \n",
    "    @staticmethod\n",
    "    def clean_data(_data, scale=1000):\n",
    "        data = _data[:]\n",
    "        data.columns = ['sj_rev', 'count']\n",
    "        data = data[data['sj_rev'].str.contains('\\[')]\n",
    "        data['sj_rev'] = data['sj_rev'].apply(lambda x: x[1:x.find(',')])\n",
    "        data['sj_rev'] = data['sj_rev'].astype(int)\n",
    "        data['sj_rev'] = data['sj_rev']/scale # 1000 -> cents, 100000 -> dollar\n",
    "        data['sj_rev'] = data['sj_rev'].astype(int)\n",
    "        data['count'] = data['count'].astype(int)\n",
    "        return data\n",
    "    \n",
    "    @staticmethod\n",
    "    def get_average(data):\n",
    "        return sum(data['sj_rev']*data['count'])/sum(data['count'])\n",
    "    \n",
    "    @staticmethod\n",
    "    def get_median(data):\n",
    "        data = data[:]\n",
    "        data['percentile'] = data['count'].cumsum()/sum(data['count'])\n",
    "        return data\n",
    "        \n",
    "    def operator(self):\n",
    "        if self._strict:\n",
    "            return '='\n",
    "        else:\n",
    "            return '>='\n",
    "        \n",
    "    def query_builder(self, single=True):\n",
    "        no_metric = ('from ctkcohort {0} {1} where first_eight_week_{2}=0 country=\"{3}\" '\n",
    "               'group by bucket(first_eight_week_sj_revenue_millicents,'\n",
    "               '0,10000000,1000)').format(self._start, self._end, self._metric, self._country)\n",
    "        with_metric = ('from ctkcohort {0} {1} where first_eight_week_{2}{4}1 country=\"{3}\" '\n",
    "               'group by bucket(first_eight_week_sj_revenue_millicents,'\n",
    "               '0,10000000,1000)').format(self._start, self._end, self._metric, \n",
    "                                          self._country, self.operator())\n",
    "        return dict(no_metric=no_metric, with_metric=with_metric)\n",
    "    \n",
    "    def get_data(self):\n",
    "        query = self.query_builder()\n",
    "        if self._no_metric is None and self._with_metric is None:\n",
    "            self._no_metric = iql.dataframe(query['no_metric'])\n",
    "            self._with_metric = iql.dataframe(query['with_metric'])\n",
    "    \n",
    "    def compare_average(self):\n",
    "        if self._no_metric is None and self._with_metric is None:\n",
    "            self.get_data()\n",
    "        with_metric = multiplier_valuation.clean_data(self._with_metric)\n",
    "        no_metric = multiplier_valuation.clean_data(self._no_metric)\n",
    "        with_metric_avg = multiplier_valuation.get_average(with_metric)\n",
    "        no_metric_avg = multiplier_valuation.get_average(no_metric)\n",
    "        print 'with metric: ', with_metric_avg\n",
    "        print 'without metric: ', no_metric_avg\n",
    "        print 'difference: ', with_metric_avg - no_metric_avg\n",
    "\n",
    "        \n",
    "    def plot_result(self, scale=1000, xlim=10000):\n",
    "        with_metric = multiplier_valuation.clean_data(self._with_metric, scale)\n",
    "        no_metric = multiplier_valuation.clean_data(self._no_metric, scale)\n",
    "        plt.xlim(0, xlim)\n",
    "        plt.ylim(0.00000001, 0.01) \n",
    "        bins2, edges2, _ = plt.hist(with_metric['sj_rev'], weights=with_metric['count'], bins=999, \n",
    "                          normed=True, log=True, range=(0,xlim), alpha=0.5, label='with'.format(self._metric))\n",
    "        bins0, edges0, _ = plt.hist(no_metric['sj_rev'], weights=no_metric['count'], bins=999, \n",
    "                          normed=True, log=True, range=(0,xlim), alpha=0.3, label='no'.format(self._metric))\n",
    "        plt.legend()\n",
    "        plt.xlabel('sj_rev (cents)')\n",
    "        plt.ylabel('probability density')\n",
    "\n",
    "    def fit_result(self):\n",
    "        with_metric = multiplier_valuation.clean_data(self._with_metric)\n",
    "        with_metric = with_metric[with_metric.sj_rev>1000]\n",
    "        plt.xlim(0, 10000)\n",
    "        plt.ylim(0.00000001, 0.01) \n",
    "        sns.distplot(with_metric['sj_rev'], hist_kws={'weights':with_metric['count']}, bins=999,  kde=False, fit=stats.lognorm)\n",
    "        plt.legend()\n",
    "        plt.xlabel('sj_rev (USD)')\n",
    "        plt.ylabel('probability density')      \n",
    "        plt.yscale('log')"
   ]
  },
  {
   "cell_type": "code",
   "execution_count": 10,
   "metadata": {},
   "outputs": [
    {
     "name": "stdout",
     "output_type": "stream",
     "text": [
      "with metric:  401\n",
      "without metric:  83\n",
      "difference:  318\n"
     ]
    }
   ],
   "source": [
    "multiplier_valuation(country='US',start='2016-09-01', end='2016-10-01').compare_average()"
   ]
  },
  {
   "cell_type": "code",
   "execution_count": 11,
   "metadata": {},
   "outputs": [
    {
     "name": "stdout",
     "output_type": "stream",
     "text": [
      "with metric:  417\n",
      "without metric:  88\n",
      "difference:  329\n"
     ]
    }
   ],
   "source": [
    "multiplier_valuation(country='US',start='2016-10-01', end='2016-11-01').compare_average()"
   ]
  },
  {
   "cell_type": "code",
   "execution_count": 12,
   "metadata": {},
   "outputs": [
    {
     "name": "stdout",
     "output_type": "stream",
     "text": [
      "with metric:  398\n",
      "without metric:  91\n",
      "difference:  307\n"
     ]
    }
   ],
   "source": [
    "multiplier_valuation(country='US',start='2016-11-01', end='2016-12-01').compare_average()"
   ]
  },
  {
   "cell_type": "code",
   "execution_count": 13,
   "metadata": {},
   "outputs": [
    {
     "name": "stdout",
     "output_type": "stream",
     "text": [
      "with metric:  402\n",
      "without metric:  91\n",
      "difference:  311\n"
     ]
    }
   ],
   "source": [
    "multiplier_valuation(country='US',start='2016-12-01', end='2017-01-01').compare_average()"
   ]
  },
  {
   "cell_type": "code",
   "execution_count": 15,
   "metadata": {},
   "outputs": [
    {
     "name": "stdout",
     "output_type": "stream",
     "text": [
      "with metric:  373\n",
      "without metric:  83\n",
      "difference:  290\n"
     ]
    }
   ],
   "source": [
    "multiplier_valuation(country='US',start='2017-01-01', end='2017-02-01').compare_average()"
   ]
  },
  {
   "cell_type": "code",
   "execution_count": 16,
   "metadata": {},
   "outputs": [
    {
     "name": "stdout",
     "output_type": "stream",
     "text": [
      "with metric:  434\n",
      "without metric:  90\n",
      "difference:  344\n"
     ]
    }
   ],
   "source": [
    "multiplier_valuation(country='US',start='2017-02-01', end='2017-03-01').compare_average()"
   ]
  },
  {
   "cell_type": "code",
   "execution_count": 17,
   "metadata": {},
   "outputs": [
    {
     "name": "stdout",
     "output_type": "stream",
     "text": [
      "with metric:  468\n",
      "without metric:  91\n",
      "difference:  377\n"
     ]
    }
   ],
   "source": [
    "multiplier_valuation(country='US',start='2017-03-01', end='2017-04-01').compare_average()"
   ]
  },
  {
   "cell_type": "code",
   "execution_count": 18,
   "metadata": {},
   "outputs": [
    {
     "name": "stdout",
     "output_type": "stream",
     "text": [
      "with metric:  493\n",
      "without metric:  98\n",
      "difference:  395\n"
     ]
    }
   ],
   "source": [
    "multiplier_valuation(country='US',start='2017-04-01', end='2017-05-01').compare_average()"
   ]
  },
  {
   "cell_type": "code",
   "execution_count": 19,
   "metadata": {},
   "outputs": [
    {
     "name": "stdout",
     "output_type": "stream",
     "text": [
      "with metric:  490\n",
      "without metric:  100\n",
      "difference:  390\n"
     ]
    }
   ],
   "source": [
    "multiplier_valuation(country='US',start='2017-05-01', end='2017-06-01').compare_average()"
   ]
  },
  {
   "cell_type": "code",
   "execution_count": 20,
   "metadata": {},
   "outputs": [
    {
     "name": "stdout",
     "output_type": "stream",
     "text": [
      "with metric:  375\n",
      "without metric:  82\n",
      "difference:  293\n"
     ]
    }
   ],
   "source": [
    "multiplier_valuation(country='US',start='2016-05-01', end='2017-01-01').compare_average()"
   ]
  },
  {
   "cell_type": "code",
   "execution_count": 21,
   "metadata": {},
   "outputs": [
    {
     "name": "stdout",
     "output_type": "stream",
     "text": [
      "with metric:  425\n",
      "without metric:  88\n",
      "difference:  337\n"
     ]
    }
   ],
   "source": [
    "multiplier_valuation(country='US',start='2017-01-01', end='2017-04-01').compare_average()"
   ]
  },
  {
   "cell_type": "code",
   "execution_count": 23,
   "metadata": {
    "collapsed": true
   },
   "outputs": [],
   "source": [
    "us = multiplier_valuation(country='US')"
   ]
  },
  {
   "cell_type": "code",
   "execution_count": 24,
   "metadata": {},
   "outputs": [
    {
     "name": "stdout",
     "output_type": "stream",
     "text": [
      "with metric:  453\n",
      "without metric:  93\n",
      "difference:  360\n"
     ]
    }
   ],
   "source": [
    "us.compare_average()"
   ]
  },
  {
   "cell_type": "code",
   "execution_count": 25,
   "metadata": {},
   "outputs": [
    {
     "data": {
      "image/png": "[encoded data removed]",
      "text/plain": [
       "<matplotlib.figure.Figure at 0x10f681510>"
      ]
     },
     "metadata": {},
     "output_type": "display_data"
    }
   ],
   "source": [
    "us.plot_result()"
   ]
  },
  {
   "cell_type": "code",
   "execution_count": 22,
   "metadata": {
    "collapsed": true
   },
   "outputs": [],
   "source": [
    "us_bar = multiplier_valuation(country='US', strict=False)"
   ]
  },
  {
   "cell_type": "code",
   "execution_count": 23,
   "metadata": {},
   "outputs": [
    {
     "name": "stdout",
     "output_type": "stream",
     "text": [
      "with metric:  563\n",
      "without metric:  93\n",
      "difference:  470\n"
     ]
    }
   ],
   "source": [
    "us_bar.compare_average()"
   ]
  },
  {
   "cell_type": "code",
   "execution_count": 20,
   "metadata": {},
   "outputs": [
    {
     "data": {
      "image/png": "[encoded data removed]",
      "text/plain": [
       "<matplotlib.figure.Figure at 0x1146b2b10>"
      ]
     },
     "metadata": {},
     "output_type": "display_data"
    }
   ],
   "source": [
    "us_bar.plot_result()"
   ]
  },
  {
   "cell_type": "code",
   "execution_count": 95,
   "metadata": {
    "collapsed": true
   },
   "outputs": [],
   "source": [
    "class sj_dist(object):\n",
    "    def __init__(self, metric='job_alert_creations', country='US', \n",
    "                 start='2017-01-01', end='2017-06-01', strict=True,\n",
    "                 compare='sj_clicks'):\n",
    "        self._metric = metric\n",
    "        self._country = country\n",
    "        self._start = start\n",
    "        self._end = end\n",
    "        self._no_metric = None\n",
    "        self._with_metric = None\n",
    "        self._strict = strict\n",
    "        self._compare = compare\n",
    "        \n",
    "        \n",
    "    def show_params(self):\n",
    "        print self._metric, self._country, self._start, self._end\n",
    "        \n",
    "    def show_data(self):\n",
    "        return dict(no_metric=self._no_metric, with_metric=self._with_metric)\n",
    "    \n",
    "    def clean_data(self, _data):\n",
    "        data = _data[:]\n",
    "        data.columns = [self._compare, 'count']\n",
    "        data = data[data[self._compare].str.contains('\\[')]\n",
    "        data[self._compare] = data[self._compare].apply(lambda x: x[1:x.find(',')])\n",
    "        data[self._compare] = data[self._compare].astype(int)\n",
    "        data[self._compare] = data[self._compare]\n",
    "        data[self._compare] = data[self._compare].astype(int)\n",
    "        data['count'] = data['count'].astype(int)\n",
    "        return data\n",
    "    \n",
    "    def get_average(self, data):\n",
    "        return sum(data[self._compare]*data['count'])/sum(data['count'])\n",
    "    \n",
    "    def get_median(self, data):\n",
    "        data = data[:]\n",
    "        data['percentile'] = data['count'].cumsum()/sum(data['count'])\n",
    "        return data\n",
    "        \n",
    "    def operator(self):\n",
    "        if self._strict:\n",
    "            return '='\n",
    "        else:\n",
    "            return '>='\n",
    "        \n",
    "    def query_builder(self, single=True):\n",
    "        no_metric = ('from ctkcohort {0} {1} where first_eight_week_{2}=0 country=\"{3}\" '\n",
    "               'group by bucket(first_eight_week_{4},'\n",
    "               '0,1000,1)').format(self._start, self._end, self._metric, self._country, self._compare)\n",
    "        with_metric = ('from ctkcohort {0} {1} where first_eight_week_{2}{4}1 country=\"{3}\" '\n",
    "               'group by bucket(first_eight_week_{5},'\n",
    "               '0,1000,1)').format(self._start, self._end, self._metric, \n",
    "                                          self._country, self.operator(), self._compare)\n",
    "        return dict(no_metric=no_metric, with_metric=with_metric)\n",
    "    \n",
    "    def get_data(self):\n",
    "        query = self.query_builder()\n",
    "        if self._no_metric is None and self._with_metric is None:\n",
    "            self._no_metric = iql.dataframe(query['no_metric'])\n",
    "            self._with_metric = iql.dataframe(query['with_metric'])\n",
    "    \n",
    "    def compare_average(self):\n",
    "        if self._no_metric is None and self._with_metric is None:\n",
    "            self.get_data()\n",
    "        with_metric = self.clean_data(self._with_metric)\n",
    "        no_metric = self.clean_data(self._no_metric)\n",
    "        with_metric_avg = self.get_average(with_metric)\n",
    "        no_metric_avg = self.get_average(no_metric)\n",
    "        print 'with metric: ', with_metric_avg\n",
    "        print 'without metric: ', no_metric_avg\n",
    "        print 'difference: ', with_metric_avg - no_metric_avg\n",
    "\n",
    "        \n",
    "    def plot_result(self, xlow=0, xhigh=1000, ylow=0, yhigh=1, bins=999):\n",
    "        with_metric = self.clean_data(self._with_metric)\n",
    "        no_metric = self.clean_data(self._no_metric)\n",
    "        plt.xlim(xlow, xhigh)\n",
    "        plt.ylim(ylow, yhigh) \n",
    "        bins2, edges2, _ = plt.hist(with_metric[self._compare], weights=with_metric['count'], bins=bins, \n",
    "                          normed=True, log=True, range=(xlow, xhigh), alpha=0.5, label='with'.format(self._metric))\n",
    "        bins0, edges0, _ = plt.hist(no_metric[self._compare], weights=no_metric['count'], bins=bins, \n",
    "                          normed=True, log=True, range=(xlow, xhigh), alpha=0.3, label='no'.format(self._metric))\n",
    "        plt.legend()\n",
    "        plt.xlabel(self._compare)\n",
    "        plt.ylabel('probability density')"
   ]
  },
  {
   "cell_type": "code",
   "execution_count": 99,
   "metadata": {
    "collapsed": true
   },
   "outputs": [],
   "source": [
    "x = sj_dist(country='US')"
   ]
  },
  {
   "cell_type": "code",
   "execution_count": 100,
   "metadata": {},
   "outputs": [
    {
     "name": "stdout",
     "output_type": "stream",
     "text": [
      "with metric:  8\n",
      "without metric:  1\n",
      "difference:  7\n"
     ]
    }
   ],
   "source": [
    "x.compare_average()"
   ]
  },
  {
   "cell_type": "code",
   "execution_count": 102,
   "metadata": {},
   "outputs": [
    {
     "data": {
      "image/png": "[encoded data removed]",
      "text/plain": [
       "<matplotlib.figure.Figure at 0x114d44350>"
      ]
     },
     "metadata": {},
     "output_type": "display_data"
    }
   ],
   "source": [
    "x.plot_result(xhigh=1000, ylow=10**-8, yhigh=0.1)"
   ]
  },
  {
   "cell_type": "code",
   "execution_count": 103,
   "metadata": {},
   "outputs": [
    {
     "name": "stdout",
     "output_type": "stream",
     "text": [
      "with metric:  18\n",
      "without metric:  3\n",
      "difference:  15\n"
     ]
    }
   ],
   "source": [
    "xx = sj_dist(country='US', compare='oj_clicks')\n",
    "xx.compare_average()"
   ]
  },
  {
   "cell_type": "code",
   "execution_count": 104,
   "metadata": {},
   "outputs": [
    {
     "data": {
      "image/png": "[encoded data removed]",
      "text/plain": [
       "<matplotlib.figure.Figure at 0x117881f90>"
      ]
     },
     "metadata": {},
     "output_type": "display_data"
    }
   ],
   "source": [
    "xx.plot_result()"
   ]
  },
  {
   "cell_type": "code",
   "execution_count": 105,
   "metadata": {},
   "outputs": [
    {
     "name": "stdout",
     "output_type": "stream",
     "text": [
      "with metric:  9\n",
      "without metric:  2\n",
      "difference:  7\n"
     ]
    }
   ],
   "source": [
    "xxx = sj_dist(country='US', compare='sessions')\n",
    "xxx.compare_average()"
   ]
  },
  {
   "cell_type": "code",
   "execution_count": 106,
   "metadata": {},
   "outputs": [
    {
     "data": {
      "image/png": "[encoded data removed]",
      "text/plain": [
       "<matplotlib.figure.Figure at 0x1173b8050>"
      ]
     },
     "metadata": {},
     "output_type": "display_data"
    }
   ],
   "source": [
    "xxx.plot_result()"
   ]
  },
  {
   "cell_type": "code",
   "execution_count": 108,
   "metadata": {},
   "outputs": [
    {
     "name": "stdout",
     "output_type": "stream",
     "text": [
      "with metric:  126\n",
      "without metric:  35\n",
      "difference:  91\n"
     ]
    }
   ],
   "source": [
    "xxxx = sj_dist(country='US', compare='sj_impressions')\n",
    "xxxx.compare_average()"
   ]
  },
  {
   "cell_type": "code",
   "execution_count": 112,
   "metadata": {},
   "outputs": [
    {
     "data": {
      "image/png": "[encoded data removed]",
      "text/plain": [
       "<matplotlib.figure.Figure at 0x1177bb050>"
      ]
     },
     "metadata": {},
     "output_type": "display_data"
    }
   ],
   "source": [
    "xxxx.plot_result(bins=100)"
   ]
  },
  {
   "cell_type": "code",
   "execution_count": 117,
   "metadata": {},
   "outputs": [
    {
     "name": "stdout",
     "output_type": "stream",
     "text": [
      "with metric:  4\n",
      "without metric:  0\n",
      "difference:  4\n"
     ]
    }
   ],
   "source": [
    "xxxx = sj_dist(country='US', compare='indeed_applies')\n",
    "xxxx.compare_average()"
   ]
  },
  {
   "cell_type": "code",
   "execution_count": 121,
   "metadata": {},
   "outputs": [
    {
     "data": {
      "image/png": "[encoded data removed]",
      "text/plain": [
       "<matplotlib.figure.Figure at 0x1161c96d0>"
      ]
     },
     "metadata": {},
     "output_type": "display_data"
    }
   ],
   "source": [
    "xxxx.plot_result(bins=51, xlow=0, xhigh=50)"
   ]
  },
  {
   "cell_type": "code",
   "execution_count": 95,
   "metadata": {
    "collapsed": true
   },
   "outputs": [],
   "source": [
    "class multiplier_valuation_first_day_only(object):\n",
    "    def __init__(self, metric='job_alert_creations', country='US', start='2017-01-01', end='2017-04-01', strict=True):\n",
    "        self._metric = metric\n",
    "        self._country = country\n",
    "        self._start = start\n",
    "        self._end = end\n",
    "        self._no_metric = None\n",
    "        self._with_metric = None\n",
    "        self._strict = strict\n",
    "        \n",
    "        \n",
    "    def show_params(self):\n",
    "        print self._metric, self._country, self._start, self._end\n",
    "        \n",
    "    def show_data(self):\n",
    "        return dict(no_metric=self._no_metric, with_metric=self._with_metric)\n",
    "    \n",
    "    @staticmethod\n",
    "    def clean_data(_data):\n",
    "        data = _data[:]\n",
    "        data.columns = ['sj_rev', 'count']\n",
    "        data = data[data['sj_rev'].str.contains('\\[')]\n",
    "        data['sj_rev'] = data['sj_rev'].apply(lambda x: x[1:x.find(',')])\n",
    "        data['sj_rev'] = data['sj_rev'].astype(int)\n",
    "        data['sj_rev'] = data['sj_rev']/1000\n",
    "        data['sj_rev'] = data['sj_rev'].astype(int)\n",
    "        data['count'] = data['count'].astype(int)\n",
    "        return data\n",
    "    \n",
    "    @staticmethod\n",
    "    def get_average(data):\n",
    "        return sum(data['sj_rev']*data['count'])/sum(data['count'])\n",
    "    \n",
    "    @staticmethod\n",
    "    def get_median(data):\n",
    "        data = data[:]\n",
    "        data['percentile'] = data['count'].cumsum()/sum(data['count'])\n",
    "        return data\n",
    "        \n",
    "    def operator(self):\n",
    "        if self._strict:\n",
    "            return '='\n",
    "        else:\n",
    "            return '>='\n",
    "        \n",
    "    def query_builder(self, single=True):\n",
    "        no_metric = ('from ctkcohort {0} {1} where first_eight_week_{2}=0 country=\"{3}\" '\n",
    "               'group by bucket(first_eight_week_sj_revenue_millicents,'\n",
    "               '0,10000000,1000)').format(self._start, self._end, self._metric, self._country)\n",
    "        with_metric = ('from ctkcohort {0} {1} where first_day_{2}{4}1 country=\"{3}\" '\n",
    "                       'first_eight_week_{2}{4}1 group by bucket(first_eight_week_sj_revenue_millicents,'\n",
    "                       '0,10000000,1000)').format(self._start, self._end, self._metric, \n",
    "                                          self._country, self.operator())\n",
    "        return dict(no_metric=no_metric, with_metric=with_metric)\n",
    "    \n",
    "    def get_data(self):\n",
    "        query = self.query_builder()\n",
    "        if self._no_metric is None and self._with_metric is None:\n",
    "            self._no_metric = iql.dataframe(query['no_metric'])\n",
    "            self._with_metric = iql.dataframe(query['with_metric'])\n",
    "    \n",
    "    def compare_average(self):\n",
    "        if self._no_metric is None and self._with_metric is None:\n",
    "            self.get_data()\n",
    "        with_metric = multiplier_valuation.clean_data(self._with_metric)\n",
    "        no_metric = multiplier_valuation.clean_data(self._no_metric)\n",
    "        with_metric_avg = multiplier_valuation.get_average(with_metric)\n",
    "        no_metric_avg = multiplier_valuation.get_average(no_metric)\n",
    "        print 'with metric: ', with_metric_avg\n",
    "        print 'without metric: ', no_metric_avg\n",
    "        print 'difference: ', with_metric_avg - no_metric_avg\n",
    "\n",
    "        \n",
    "    def plot_result(self):\n",
    "        with_metric = multiplier_valuation.clean_data(self._with_metric)\n",
    "        no_metric = multiplier_valuation.clean_data(self._no_metric)\n",
    "        plt.xlim(0, 10000)\n",
    "        plt.ylim(0.00000001, 0.01) \n",
    "        bins2, edges2, _ = plt.hist(with_metric['sj_rev'], weights=with_metric['count'], bins=999, \n",
    "                          normed=True, log=True, range=(0,10000), alpha=0.5, label='single JA'.format(self._metric))\n",
    "        bins0, edges0, _ = plt.hist(no_metric['sj_rev'], weights=no_metric['count'], bins=999, \n",
    "                          normed=True, log=True, range=(0,10000), alpha=0.3, label='no JA'.format(self._metric))\n",
    "        plt.legend()\n",
    "        plt.xlabel('sj_rev (USD in cents)')\n",
    "        plt.ylabel('probability density')"
   ]
  },
  {
   "cell_type": "code",
   "execution_count": 86,
   "metadata": {
    "collapsed": true
   },
   "outputs": [],
   "source": [
    "xs = multiplier_valuation_first_day_only()"
   ]
  },
  {
   "cell_type": "code",
   "execution_count": 87,
   "metadata": {},
   "outputs": [
    {
     "name": "stdout",
     "output_type": "stream",
     "text": [
      "with metric:  238\n",
      "without metric:  88\n",
      "difference:  150\n"
     ]
    }
   ],
   "source": [
    "xs.compare_average()"
   ]
  },
  {
   "cell_type": "code",
   "execution_count": 88,
   "metadata": {},
   "outputs": [
    {
     "data": {
      "image/png": "[encoded data removed]",
      "text/plain": [
       "<matplotlib.figure.Figure at 0x1047e2510>"
      ]
     },
     "metadata": {},
     "output_type": "display_data"
    }
   ],
   "source": [
    "xs.plot_result()"
   ]
  },
  {
   "cell_type": "code",
   "execution_count": 96,
   "metadata": {
    "collapsed": true
   },
   "outputs": [],
   "source": [
    "xxs = multiplier_valuation_first_day_only(strict=True)"
   ]
  },
  {
   "cell_type": "code",
   "execution_count": 97,
   "metadata": {},
   "outputs": [
    {
     "name": "stdout",
     "output_type": "stream",
     "text": [
      "with metric:  195\n",
      "without metric:  88\n",
      "difference:  107\n"
     ]
    }
   ],
   "source": [
    "xxs.compare_average()"
   ]
  },
  {
   "cell_type": "code",
   "execution_count": 98,
   "metadata": {},
   "outputs": [
    {
     "data": {
      "image/png": "[encoded data removed]",
      "text/plain": [
       "<matplotlib.figure.Figure at 0x10b364bd0>"
      ]
     },
     "metadata": {},
     "output_type": "display_data"
    }
   ],
   "source": [
    "xxs.plot_result()"
   ]
  },
  {
   "cell_type": "code",
   "execution_count": 122,
   "metadata": {
    "collapsed": true
   },
   "outputs": [],
   "source": [
    "ddf = pd.read_csv('query_overlap.txt')"
   ]
  },
  {
   "cell_type": "code",
   "execution_count": 123,
   "metadata": {},
   "outputs": [
    {
     "name": "stderr",
     "output_type": "stream",
     "text": [
      "/Users/aristotle/.pyenv/versions/2.7.9/envs/scratch/lib/python2.7/site-packages/ipykernel_launcher.py:2: SettingWithCopyWarning: \n",
      "A value is trying to be set on a copy of a slice from a DataFrame.\n",
      "Try using .loc[row_indexer,col_indexer] = value instead\n",
      "\n",
      "See the caveats in the documentation: http://pandas.pydata.org/pandas-docs/stable/indexing.html#indexing-view-versus-copy\n",
      "  \n"
     ]
    }
   ],
   "source": [
    "xxxx = ddf[ddf.dradis_clicks>1]\n",
    "xxxx['query'] = xxxx['query'].apply(lambda x: '['+x+']')"
   ]
  },
  {
   "cell_type": "code",
   "execution_count": 124,
   "metadata": {
    "collapsed": true
   },
   "outputs": [],
   "source": [
    "xxxx['query'].to_csv('test.txt', index=False)"
   ]
  },
  {
   "cell_type": "code",
   "execution_count": 125,
   "metadata": {},
   "outputs": [
    {
     "data": {
      "text/plain": [
       "2659"
      ]
     },
     "execution_count": 125,
     "metadata": {},
     "output_type": "execute_result"
    }
   ],
   "source": [
    "len(xxxx['query'])"
   ]
  },
  {
   "cell_type": "code",
   "execution_count": null,
   "metadata": {
    "collapsed": true
   },
   "outputs": [],
   "source": []
  }
 ],
 "metadata": {
  "kernelspec": {
   "display_name": "Python 2",
   "language": "python",
   "name": "python2"
  },
  "language_info": {
   "codemirror_mode": {
    "name": "ipython",
    "version": 2
   },
   "file_extension": ".py",
   "mimetype": "text/x-python",
   "name": "python",
   "nbconvert_exporter": "python",
   "pygments_lexer": "ipython2",
   "version": "2.7.10"
  }
 },
 "nbformat": 4,
 "nbformat_minor": 2
}
