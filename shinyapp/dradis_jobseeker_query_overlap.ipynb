{
 "cells": [
  {
   "cell_type": "code",
   "execution_count": 1,
   "metadata": {
    "collapsed": true
   },
   "outputs": [],
   "source": [
    "import iql"
   ]
  },
  {
   "cell_type": "code",
   "execution_count": 115,
   "metadata": {
    "collapsed": true
   },
   "outputs": [],
   "source": [
    "import pandas as pd"
   ]
  },
  {
   "cell_type": "code",
   "execution_count": 88,
   "metadata": {},
   "outputs": [],
   "source": [
    "class get_account_queries(object):\n",
    "    def __init__(self, start='90d', end='today'):\n",
    "        self._start = start\n",
    "        self._end = end\n",
    "        self._js_accounts = ['us_jobseeker_usd_broadmatch_2_en',\n",
    "                             'us_jobseeker_usd_exactmatch_5_en',\n",
    "                             'us_jobseeker_usd_exactmatch_2_en',\n",
    "                             'us_jobseeker_usd_exactmatch_0_en',\n",
    "                             'us_jobseeker_usd_exactmatch_1_en',\n",
    "                             'us_jobseeker_usd_broadmatch_1_en',\n",
    "                             'us_jobseeker_usd_exactmatch_6_en',\n",
    "                             'us_jobseeker_usd_geo_2_active',\n",
    "                             'us_jobseeker_usd_broadmatch_0_en',\n",
    "                             'us_jobseeker_usd_exactmatch_3_en',\n",
    "                             'us_jobseeker_usd_geo_active',\n",
    "                             'us_jobseeker_usd_exactmatch_4_en']\n",
    "        self._dradis_accounts = ['us_dradis_usd_exactmatch_0_active',\n",
    "                                 'us_dradis_usd_exactmatch_1_active',\n",
    "                                 'us_dradis_sh_usd_0_active',\n",
    "                                 'us_dradis_usd_main_active']\n",
    "        self._dradis_raw = {}\n",
    "        self._js_raw = {}  \n",
    "        self._dradis_queries = {}\n",
    "        self._js_queries = {}        \n",
    "        \n",
    "    def query_builder(self, account):\n",
    "        qry = (\"FROM semgoogle {start} {end} WHERE account_country='US' \"\n",
    "               \"report_origin='SEARCH_QUERY_PERFORMANCE_REPORT' \"\n",
    "               \"account_name='{account}' clicks>0 GROUP BY query SELECT \"\n",
    "               \"clicks\").format(start=self._start, end=self._end, account=account)\n",
    "        return qry\n",
    " \n",
    "    def get_account_raw_data(self, account):\n",
    "        data = iql.dataframe(self.query_builder(account))\n",
    "        return data\n",
    "    \n",
    "    def get_queries_raw(self, account_list):\n",
    "        data = {}\n",
    "        for account in account_list:\n",
    "            data[account] = self.get_account_raw_data(account)\n",
    "        return data\n",
    "    \n",
    "    def populate_raw_data(self):\n",
    "        self._js_raw = self.get_queries_raw(self._js_accounts)\n",
    "        self._dradis_raw = self.get_queries_raw(self._dradis_accounts)\n",
    "    \n",
    "    def get_account_data(self, account):\n",
    "        data = iql.dataframe(self.query_builder(account))\n",
    "        return set(data['query'].values)\n",
    "    \n",
    "    def get_queries(self, account_list):\n",
    "        data = {}\n",
    "        for account in account_list:\n",
    "            data[account] = self.get_account_data(account)\n",
    "        return data\n",
    "    \n",
    "    def populate_data(self):\n",
    "        self._js_queries = self.get_queries(self._js_accounts)\n",
    "        self._dradis_queries = self.get_queries(self._dradis_accounts)"
   ]
  },
  {
   "cell_type": "code",
   "execution_count": 89,
   "metadata": {
    "collapsed": true
   },
   "outputs": [],
   "source": [
    "a = get_account_queries()"
   ]
  },
  {
   "cell_type": "code",
   "execution_count": 90,
   "metadata": {},
   "outputs": [],
   "source": [
    "a.populate_data()"
   ]
  },
  {
   "cell_type": "code",
   "execution_count": 91,
   "metadata": {},
   "outputs": [
    {
     "data": {
      "text/plain": [
       "12"
      ]
     },
     "execution_count": 91,
     "metadata": {},
     "output_type": "execute_result"
    }
   ],
   "source": [
    "len(a._js_queries)"
   ]
  },
  {
   "cell_type": "code",
   "execution_count": 92,
   "metadata": {},
   "outputs": [
    {
     "data": {
      "text/plain": [
       "4"
      ]
     },
     "execution_count": 92,
     "metadata": {},
     "output_type": "execute_result"
    }
   ],
   "source": [
    "len(a._dradis_queries)"
   ]
  },
  {
   "cell_type": "code",
   "execution_count": 93,
   "metadata": {},
   "outputs": [
    {
     "data": {
      "text/plain": [
       "{1, 2, 3}"
      ]
     },
     "execution_count": 93,
     "metadata": {},
     "output_type": "execute_result"
    }
   ],
   "source": [
    "set([1,2])|set([3])"
   ]
  },
  {
   "cell_type": "code",
   "execution_count": 94,
   "metadata": {},
   "outputs": [
    {
     "data": {
      "text/plain": [
       "['us_dradis_usd_exactmatch_0_active',\n",
       " 'us_dradis_usd_exactmatch_1_active',\n",
       " 'us_dradis_sh_usd_0_active',\n",
       " 'us_dradis_usd_main_active']"
      ]
     },
     "execution_count": 94,
     "metadata": {},
     "output_type": "execute_result"
    }
   ],
   "source": [
    "a._dradis_queries.keys()"
   ]
  },
  {
   "cell_type": "code",
   "execution_count": 53,
   "metadata": {},
   "outputs": [
    {
     "data": {
      "text/plain": [
       "['us_jobseeker_usd_exactmatch_3_en',\n",
       " 'us_jobseeker_usd_broadmatch_2_en',\n",
       " 'us_jobseeker_usd_broadmatch_0_en',\n",
       " 'us_jobseeker_usd_exactmatch_2_en',\n",
       " 'us_jobseeker_usd_exactmatch_5_en',\n",
       " 'us_jobseeker_usd_broadmatch_1_en',\n",
       " 'us_jobseeker_usd_exactmatch_1_en',\n",
       " 'us_jobseeker_usd_geo_active',\n",
       " 'us_jobseeker_usd_geo_2_active',\n",
       " 'us_jobseeker_usd_exactmatch_4_en',\n",
       " 'us_jobseeker_usd_exactmatch_6_en',\n",
       " 'us_jobseeker_usd_exactmatch_0_en']"
      ]
     },
     "execution_count": 53,
     "metadata": {},
     "output_type": "execute_result"
    }
   ],
   "source": [
    "a._js_queries.keys()"
   ]
  },
  {
   "cell_type": "code",
   "execution_count": 95,
   "metadata": {},
   "outputs": [
    {
     "data": {
      "text/plain": [
       "306600"
      ]
     },
     "execution_count": 95,
     "metadata": {},
     "output_type": "execute_result"
    }
   ],
   "source": [
    "dd = set()\n",
    "for i in a._dradis_queries:\n",
    "    dd = dd | a._dradis_queries[i]\n",
    "len(dd)"
   ]
  },
  {
   "cell_type": "code",
   "execution_count": 96,
   "metadata": {},
   "outputs": [
    {
     "data": {
      "text/plain": [
       "3983966"
      ]
     },
     "execution_count": 96,
     "metadata": {},
     "output_type": "execute_result"
    }
   ],
   "source": [
    "jj = set()\n",
    "for i in a._js_queries:\n",
    "    jj = jj |a._js_queries[i]\n",
    "len(jj)"
   ]
  },
  {
   "cell_type": "code",
   "execution_count": 97,
   "metadata": {
    "collapsed": true
   },
   "outputs": [],
   "source": [
    "common_queries = dd.intersection(jj)"
   ]
  },
  {
   "cell_type": "code",
   "execution_count": 99,
   "metadata": {},
   "outputs": [
    {
     "data": {
      "text/plain": [
       "5754"
      ]
     },
     "execution_count": 99,
     "metadata": {},
     "output_type": "execute_result"
    }
   ],
   "source": [
    "len(common_queries)"
   ]
  },
  {
   "cell_type": "code",
   "execution_count": 86,
   "metadata": {
    "collapsed": true
   },
   "outputs": [],
   "source": [
    "b = get_account_queries()"
   ]
  },
  {
   "cell_type": "code",
   "execution_count": 87,
   "metadata": {},
   "outputs": [],
   "source": [
    "b.populate_raw_data()"
   ]
  },
  {
   "cell_type": "code",
   "execution_count": 102,
   "metadata": {},
   "outputs": [],
   "source": [
    "#TODO: add click data\n",
    "tmp = dict()\n",
    "for i in b._dradis_raw:\n",
    "    tmp.update(b._dradis_raw[i].set_index('query').to_dict()['clicks'])"
   ]
  },
  {
   "cell_type": "code",
   "execution_count": 127,
   "metadata": {
    "collapsed": true
   },
   "outputs": [],
   "source": [
    "#TODO: add click data\n",
    "tmp_js = dict()\n",
    "for i in b._js_raw:\n",
    "    tmp_js.update(b._js_raw[i].set_index('query').to_dict()['clicks'])"
   ]
  },
  {
   "cell_type": "code",
   "execution_count": 110,
   "metadata": {},
   "outputs": [],
   "source": [
    "final = dict()\n",
    "for i in tmp:\n",
    "    if i in common_queries:\n",
    "        final[i] = tmp[i]"
   ]
  },
  {
   "cell_type": "code",
   "execution_count": 128,
   "metadata": {
    "collapsed": true
   },
   "outputs": [],
   "source": [
    "final_js = dict()\n",
    "for i in tmp_js:\n",
    "    if i in common_queries:\n",
    "        final_js[i] = tmp_js[i]"
   ]
  },
  {
   "cell_type": "code",
   "execution_count": 118,
   "metadata": {},
   "outputs": [],
   "source": [
    "xyz = pd.DataFrame(final.items(), columns=['query', 'clicks'])"
   ]
  },
  {
   "cell_type": "code",
   "execution_count": 121,
   "metadata": {},
   "outputs": [],
   "source": [
    "xyz = xyz.sort_values('clicks', ascending=0)"
   ]
  },
  {
   "cell_type": "code",
   "execution_count": 129,
   "metadata": {},
   "outputs": [],
   "source": [
    "xyz_js = pd.DataFrame(final_js.items(), columns=['query', 'clicks'])"
   ]
  },
  {
   "cell_type": "code",
   "execution_count": 139,
   "metadata": {
    "collapsed": true
   },
   "outputs": [],
   "source": [
    "xyz_js = xyz_js.sort_values('clicks', ascending=0)"
   ]
  },
  {
   "cell_type": "code",
   "execution_count": 130,
   "metadata": {},
   "outputs": [],
   "source": [
    "#xyz[xyz.clicks>=10]"
   ]
  },
  {
   "cell_type": "code",
   "execution_count": 131,
   "metadata": {},
   "outputs": [
    {
     "data": {
      "text/plain": [
       "5754"
      ]
     },
     "execution_count": 131,
     "metadata": {},
     "output_type": "execute_result"
    }
   ],
   "source": [
    "len(xyz)"
   ]
  },
  {
   "cell_type": "code",
   "execution_count": 143,
   "metadata": {},
   "outputs": [
    {
     "data": {
      "text/plain": [
       "5754"
      ]
     },
     "execution_count": 143,
     "metadata": {},
     "output_type": "execute_result"
    }
   ],
   "source": [
    "len(js_final)"
   ]
  },
  {
   "cell_type": "code",
   "execution_count": 140,
   "metadata": {},
   "outputs": [],
   "source": [
    "js_final = xyz_js.set_index('query')\n",
    "dradis_final = xyz.set_index('query')"
   ]
  },
  {
   "cell_type": "code",
   "execution_count": 149,
   "metadata": {},
   "outputs": [],
   "source": [
    "allx = js_final.merge(dradis_final, left_index=True, right_index=True, how='inner')"
   ]
  },
  {
   "cell_type": "code",
   "execution_count": 151,
   "metadata": {
    "collapsed": true
   },
   "outputs": [],
   "source": [
    "allx.columns = ['js_clicks', 'dradis_clicks']"
   ]
  },
  {
   "cell_type": "code",
   "execution_count": 152,
   "metadata": {},
   "outputs": [],
   "source": [
    "allx['js_clicks/dradis_clicks'] = allx.js_clicks/allx.dradis_clicks"
   ]
  },
  {
   "cell_type": "code",
   "execution_count": 156,
   "metadata": {},
   "outputs": [],
   "source": [
    "allx.to_csv('query_overlap.txt', encoding='utf-8')"
   ]
  },
  {
   "cell_type": "code",
   "execution_count": 166,
   "metadata": {},
   "outputs": [],
   "source": [
    "#allx[(allx.dradis_clicks>=10)&(allx.js_clicks>=10)].sort_values('dradis_clicks', ascending=0).head(25)"
   ]
  },
  {
   "cell_type": "code",
   "execution_count": 172,
   "metadata": {},
   "outputs": [
    {
     "name": "stdout",
     "output_type": "stream",
     "text": [
      "error\n"
     ]
    }
   ],
   "source": [
    "fx = []\n",
    "for i in list(allx.index):\n",
    "    try:\n",
    "        fx.append(str(i))\n",
    "    except:\n",
    "        print 'error'"
   ]
  },
  {
   "cell_type": "code",
   "execution_count": 193,
   "metadata": {},
   "outputs": [],
   "source": [
    "fqry = (\"FROM semgoogle 90d today WHERE account_country='US' \"\n",
    "        \"report_origin='SEARCH_QUERY_PERFORMANCE_REPORT' query in {0} \"\n",
    "        \"account_name=~'us_jobseeker.*' clicks>0 GROUP BY query, account_name, \"\n",
    "        \"campaign_name, adgroup_name  SELECT clicks\").format(tuple(fx))"
   ]
  },
  {
   "cell_type": "code",
   "execution_count": 196,
   "metadata": {},
   "outputs": [],
   "source": [
    "sdf = iql.dataframe(fqry)"
   ]
  },
  {
   "cell_type": "code",
   "execution_count": 203,
   "metadata": {},
   "outputs": [],
   "source": [
    "sdf.sort_values('clicks', ascending=0).to_csv('query_overlap_with_account_campaign_adgroup_info.txt', index=False, encoding='utf-8')"
   ]
  },
  {
   "cell_type": "code",
   "execution_count": 205,
   "metadata": {},
   "outputs": [
    {
     "data": {
      "text/plain": [
       "72620"
      ]
     },
     "execution_count": 205,
     "metadata": {},
     "output_type": "execute_result"
    }
   ],
   "source": [
    "allx.js_clicks.sum()"
   ]
  },
  {
   "cell_type": "code",
   "execution_count": 206,
   "metadata": {},
   "outputs": [
    {
     "data": {
      "text/plain": [
       "208341"
      ]
     },
     "execution_count": 206,
     "metadata": {},
     "output_type": "execute_result"
    }
   ],
   "source": [
    "allx.dradis_clicks.sum()"
   ]
  },
  {
   "cell_type": "code",
   "execution_count": 209,
   "metadata": {},
   "outputs": [
    {
     "data": {
      "text/plain": [
       "0.048413333333333336"
      ]
     },
     "execution_count": 209,
     "metadata": {},
     "output_type": "execute_result"
    }
   ],
   "source": [
    "72620./1500000"
   ]
  },
  {
   "cell_type": "code",
   "execution_count": null,
   "metadata": {
    "collapsed": true
   },
   "outputs": [],
   "source": []
  }
 ],
 "metadata": {
  "kernelspec": {
   "display_name": "Python 2 (scratch)",
   "language": "python",
   "name": "scratch"
  },
  "language_info": {
   "codemirror_mode": {
    "name": "ipython",
    "version": 2
   },
   "file_extension": ".py",
   "mimetype": "text/x-python",
   "name": "python",
   "nbconvert_exporter": "python",
   "pygments_lexer": "ipython2",
   "version": "2.7.9"
  }
 },
 "nbformat": 4,
 "nbformat_minor": 2
}
