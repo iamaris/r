{
 "cells": [
  {
   "cell_type": "code",
   "execution_count": 1,
   "metadata": {
    "collapsed": true
   },
   "outputs": [],
   "source": [
    "import mysqlconnect"
   ]
  },
  {
   "cell_type": "code",
   "execution_count": 2,
   "metadata": {
    "collapsed": true
   },
   "outputs": [],
   "source": [
    "import iql"
   ]
  },
  {
   "cell_type": "code",
   "execution_count": 3,
   "metadata": {
    "collapsed": true
   },
   "outputs": [],
   "source": [
    "import pandas as pd\n",
    "pd.set_option('display.float_format', lambda x: '%.3f' % x)"
   ]
  },
  {
   "cell_type": "code",
   "execution_count": 4,
   "metadata": {
    "collapsed": true
   },
   "outputs": [],
   "source": [
    "start = '2017-07-01'\n",
    "end = '2017-07-30'\n",
    "iql_end = '2017-08-01'"
   ]
  },
  {
   "cell_type": "code",
   "execution_count": 5,
   "metadata": {
    "collapsed": true
   },
   "outputs": [],
   "source": [
    "def get_average_position(start, end):\n",
    "    qry = (\"SELECT country, SUM(impressions*average_position)/SUM(impressions) as average_position FROM \"\n",
    "           \"t_google_search_average_position WHERE country in ('US', 'UK', 'CA', 'DE', 'AU', 'FR', 'NL', \"\n",
    "           \"'JP', 'IN', 'BR') AND activity_date between '{0}' AND '{1}' GROUP BY country \"\n",
    "           \"UNION \"\n",
    "           \"SELECT 'ROW' as country, SUM(impressions*average_position)/SUM(impressions) as average_position FROM \"\n",
    "           \"t_google_search_average_position WHERE country not in ('US', 'UK', 'CA', 'DE', 'AU', 'FR', 'NL', \"\n",
    "           \"'JP', 'IN', 'BR') AND activity_date between '{0}' AND '{1}' \"\n",
    "           \"UNION \"\n",
    "           \"SELECT 'WW' as country, SUM(impressions*average_position)/SUM(impressions) as average_position FROM \"\n",
    "           \"t_google_search_average_position WHERE activity_date between '{0}' AND '{1}' \".format(start, end))\n",
    "    average_position = mysqlconnect.fetch_data(qry, df=True)\n",
    "    average_position['average_position'] /= 10.\n",
    "    return average_position"
   ]
  },
  {
   "cell_type": "code",
   "execution_count": 6,
   "metadata": {
    "collapsed": true
   },
   "outputs": [],
   "source": [
    "row = lambda x: 'ROW' if x not in ('US', 'UK', 'GB', 'CA', 'DE', 'AU', 'FR', 'NL', 'JP', 'IN', 'BR') else x"
   ]
  },
  {
   "cell_type": "code",
   "execution_count": 7,
   "metadata": {
    "collapsed": true
   },
   "outputs": [],
   "source": [
    "def active_queries(start, end):\n",
    "    qry = (\"from semgoogle {0} {1} where impressions>0 group by account_country \"\n",
    "           \"select distinct(keyword_id)\".format(start, end))\n",
    "    data = iql.dataframe(qry)\n",
    "    data.columns = ['country', 'active_queries']\n",
    "    data['country'] =  data['country'].apply(row)\n",
    "    data = data.groupby(by=['country'])['active_queries'].sum()\n",
    "    ww = pd.DataFrame([['WW', data.sum()]], columns=['country', 'active_queries'])\n",
    "    ww = ww.groupby(by=['country'])['active_queries'].sum()\n",
    "    return data.append(ww)"
   ]
  },
  {
   "cell_type": "code",
   "execution_count": 8,
   "metadata": {
    "collapsed": true
   },
   "outputs": [],
   "source": [
    "def traffic_data(start, end):\n",
    "    qry_ga = (\"SELECT country, SUM(sessions) as sessions FROM t_ga_unsampled_sessions_summarized \"\n",
    "              \"WHERE country not in ('CMP', 'FORUM', 'GLOBAL', 'HIRE', 'REZ', 'ROW', 'ROWUS', 'SALARIES', 'SALARY') \"\n",
    "              \"AND activity_date between '{0}' AND '{1}' AND channel='sem' \"\n",
    "              \"GROUP BY country\".format(start, end))\n",
    "    data = mysqlconnect.fetch_data(qry_ga, df=True)\n",
    "    data['country'] =  data['country'].apply(row)\n",
    "    data = data.groupby(by=['country'])['sessions'].sum()\n",
    "    ww = pd.DataFrame([['WW', data.sum()]], columns=['country', 'sessions'])\n",
    "    ww = ww.groupby(by=['country'])['sessions'].sum()\n",
    "    return data.append(ww)"
   ]
  },
  {
   "cell_type": "code",
   "execution_count": 9,
   "metadata": {
    "collapsed": true
   },
   "outputs": [],
   "source": [
    "def cost_revenue(start, end):\n",
    "    qry = (\"from semroi2 {0} {1} where medium='sem' \"\n",
    "           \"sem_type='jobseeker' sid_source!='facebook' \"\n",
    "           \"group by country select cost_millicents/100000, cost_clicks, \"\n",
    "           \"(ga_revenue_est_millicents+sj_revenue_millicents)/100000\".format(start, end))\n",
    "    data = iql.dataframe(qry)\n",
    "    data['country'] =  data['country'].apply(row)\n",
    "    # cost\n",
    "    cost =  data.groupby(by=['country'])['cost_millicents/100000'].sum()\n",
    "    ww_cost = pd.DataFrame([['WW', cost.sum()]], columns=['country', 'cost'])\n",
    "    ww_cost = ww_cost.groupby(by=['country'])['cost'].sum()\n",
    "    cost = cost.append(ww_cost)\n",
    "    # revenue\n",
    "    revenue = data.groupby(by=['country'])['(ga_revenue_est_millicents+sj_revenue_millicents)/100000'].sum()\n",
    "    ww_revenue = pd.DataFrame([['WW', revenue.sum()]], columns=['country', 'revenue'])\n",
    "    ww_revenue = ww_revenue.groupby(by=['country'])['revenue'].sum()\n",
    "    revenue = revenue.append(ww_revenue)\n",
    "    # clicks\n",
    "    clicks =  data.groupby(by=['country'])['cost_clicks'].sum()\n",
    "    ww_clicks = pd.DataFrame([['WW', clicks.sum()]], columns=['country', 'clicks'])\n",
    "    ww_clicks = ww_clicks.groupby(by=['country'])['clicks'].sum()\n",
    "    clicks = clicks.append(ww_clicks)    \n",
    "    return cost, revenue"
   ]
  },
  {
   "cell_type": "code",
   "execution_count": 10,
   "metadata": {
    "collapsed": true
   },
   "outputs": [],
   "source": [
    "avg_pos = get_average_position(start, end)"
   ]
  },
  {
   "cell_type": "code",
   "execution_count": 11,
   "metadata": {
    "collapsed": true
   },
   "outputs": [],
   "source": [
    "queries = active_queries(start, iql_end)"
   ]
  },
  {
   "cell_type": "code",
   "execution_count": 12,
   "metadata": {
    "collapsed": true
   },
   "outputs": [],
   "source": [
    "traffic = traffic_data(start, end)"
   ]
  },
  {
   "cell_type": "code",
   "execution_count": 13,
   "metadata": {
    "collapsed": true
   },
   "outputs": [],
   "source": [
    "cost, revenue = cost_revenue(start, iql_end)"
   ]
  },
  {
   "cell_type": "code",
   "execution_count": 14,
   "metadata": {
    "collapsed": true
   },
   "outputs": [],
   "source": [
    "def summary(country):\n",
    "    print queries[country]\n",
    "    print cost[country]\n",
    "    print '{0:.2f}'.format(revenue[country])\n",
    "    print traffic[country.replace('UK', 'GB')]\n",
    "    print '{0:.1f}'.format(avg_pos[avg_pos.country==country]['average_position'].values[0])\n",
    "    print '{0:.2f}'.format(revenue[country]/cost[country] - 1.)"
   ]
  },
  {
   "cell_type": "code",
   "execution_count": 26,
   "metadata": {},
   "outputs": [
    {
     "name": "stdout",
     "output_type": "stream",
     "text": [
      "3740262\n",
      "9127784.84942\n",
      "27133780.18\n",
      "78209792\n",
      "1.8\n",
      "1.97\n"
     ]
    }
   ],
   "source": [
    "summary('WW')"
   ]
  },
  {
   "cell_type": "code",
   "execution_count": null,
   "metadata": {
    "collapsed": true
   },
   "outputs": [],
   "source": []
  }
 ],
 "metadata": {
  "kernelspec": {
   "display_name": "Python 2",
   "language": "python",
   "name": "python2"
  },
  "language_info": {
   "codemirror_mode": {
    "name": "ipython",
    "version": 2
   },
   "file_extension": ".py",
   "mimetype": "text/x-python",
   "name": "python",
   "nbconvert_exporter": "python",
   "pygments_lexer": "ipython2",
   "version": "2.7.9"
  },
  "widgets": {
   "state": {},
   "version": "1.1.2"
  }
 },
 "nbformat": 4,
 "nbformat_minor": 1
}
