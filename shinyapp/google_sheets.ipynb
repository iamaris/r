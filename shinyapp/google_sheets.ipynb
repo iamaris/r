{
 "cells": [
  {
   "cell_type": "code",
   "execution_count": 1,
   "metadata": {
    "collapsed": true
   },
   "outputs": [],
   "source": [
    "import iql"
   ]
  },
  {
   "cell_type": "code",
   "execution_count": 2,
   "metadata": {
    "collapsed": true
   },
   "outputs": [],
   "source": [
    "from StringIO import StringIO  # got moved to io in python3.\n",
    "import pandas as pd\n",
    "import requests\n",
    "sheet = 'https://docs.google.com/spreadsheet/ccc?key=1juJLiXF3R6fj99XA-dfChijbC2AickNAGFA1OBPmBqQ&output=csv'\n",
    "r = requests.get(sheet)\n",
    "data = r.content"
   ]
  },
  {
   "cell_type": "code",
   "execution_count": 3,
   "metadata": {
    "collapsed": true
   },
   "outputs": [],
   "source": [
    "import gspread\n",
    "from oauth2client.service_account import ServiceAccountCredentials\n",
    "\n",
    "\n",
    "# use creds to create a client to interact with the Google Drive API\n",
    "scope = ['https://spreadsheets.google.com/feeds', 'https://www.googleapis.com/auth/drive']\n",
    "creds = ServiceAccountCredentials.from_json_keyfile_name('automatic-docs-7f192b063967.json', scope)\n",
    "client = gspread.authorize(creds)\n",
    "\n",
    "#client.openall()\n",
    "#client.open_by_url('https://docs.google.com/spreadsheets/d/1juJLiXF3R6fj99XA-dfChijbC2AickNAGFA1OBPmBqQ/edit')\n",
    "#client.del_spreadsheet('1agX17J57HYDwtdSQOXeAlk9rQqJOBuCMOsLjul35Jk4')\n",
    "wks = client.open_by_key('1juJLiXF3R6fj99XA-dfChijbC2AickNAGFA1OBPmBqQ')\n",
    "\n",
    "# Extract and print all of the values\n",
    "#list_of_hashes = sheet.get_all_records()\n",
    "#print(list_of_hashes)"
   ]
  },
  {
   "cell_type": "code",
   "execution_count": 4,
   "metadata": {
    "collapsed": true
   },
   "outputs": [],
   "source": [
    "df = pd.DataFrame(wks.sheet1.get_all_records())"
   ]
  },
  {
   "cell_type": "code",
   "execution_count": 5,
   "metadata": {},
   "outputs": [
    {
     "data": {
      "text/plain": [
       "(<Worksheet 'AU' id:oxg13kv>, <Worksheet 'US' id:oqtxhqd>)"
      ]
     },
     "execution_count": 5,
     "metadata": {},
     "output_type": "execute_result"
    }
   ],
   "source": [
    "wks.sheet1, wks.worksheet('US')"
   ]
  },
  {
   "cell_type": "code",
   "execution_count": 48,
   "metadata": {
    "collapsed": true
   },
   "outputs": [],
   "source": [
    "sheets = ['WW', 'US', 'UK', 'CA', 'DE', 'FR', 'AU', 'JP', 'NL', 'IN', 'BR', 'ROW']"
   ]
  },
  {
   "cell_type": "code",
   "execution_count": 62,
   "metadata": {
    "collapsed": true
   },
   "outputs": [],
   "source": [
    "data = {}"
   ]
  },
  {
   "cell_type": "code",
   "execution_count": 65,
   "metadata": {
    "collapsed": true
   },
   "outputs": [],
   "source": [
    "for i in sheets:\n",
    "    data[i] = pd.DataFrame(wks.worksheet(i).get_all_records())"
   ]
  },
  {
   "cell_type": "code",
   "execution_count": 86,
   "metadata": {
    "collapsed": true
   },
   "outputs": [],
   "source": [
    "def test(df=data['AU']):\n",
    "    tmp = df.set_index(u'')\n",
    "    tmp = tmp.ix[1:]\n",
    "    tmp = tmp.transpose()\n",
    "    return tmp"
   ]
  },
  {
   "cell_type": "code",
   "execution_count": 89,
   "metadata": {
    "collapsed": true
   },
   "outputs": [],
   "source": [
    "#test(data['AU'])"
   ]
  },
  {
   "cell_type": "code",
   "execution_count": 101,
   "metadata": {
    "collapsed": true
   },
   "outputs": [],
   "source": [
    "budget_wks = client.open_by_key('1AAZ1HDlGzbhBBchwmwyLC-pC66o3NXBhcXWhG9s8P1Y')"
   ]
  },
  {
   "cell_type": "code",
   "execution_count": 102,
   "metadata": {
    "collapsed": true
   },
   "outputs": [],
   "source": [
    "budget = pd.DataFrame(budget_wks.worksheet('2017_Goal_Monthly_Budget').get_all_records())"
   ]
  },
  {
   "cell_type": "code",
   "execution_count": 105,
   "metadata": {
    "collapsed": true
   },
   "outputs": [],
   "source": [
    "budget = budget.set_index('Country')"
   ]
  },
  {
   "cell_type": "code",
   "execution_count": 123,
   "metadata": {
    "collapsed": true
   },
   "outputs": [],
   "source": [
    "budget['updated_annual_budget'] = budget['updated_annual_budget'].apply(lambda x: x.replace(',','').replace('$',''))\n",
    "budget['updated_annual_budget'] = budget['updated_annual_budget'].astype(int)"
   ]
  },
  {
   "cell_type": "code",
   "execution_count": 124,
   "metadata": {},
   "outputs": [
    {
     "data": {
      "text/plain": [
       "{'': 134361632,\n",
       " 'AE': 757622,\n",
       " 'AR': 144942,\n",
       " 'AT': 568331,\n",
       " 'AU': 9518183,\n",
       " 'BE': 1118991,\n",
       " 'BH': 13667,\n",
       " 'BR': 2794344,\n",
       " 'CA': 2371909,\n",
       " 'CH': 1925738,\n",
       " 'CL': 207964,\n",
       " 'CN': 13,\n",
       " 'CO': 160640,\n",
       " 'CR': 15082,\n",
       " 'CZ': 263524,\n",
       " 'DE': 15322810,\n",
       " 'DK': 151168,\n",
       " 'EC': 19352,\n",
       " 'EG': 38847,\n",
       " 'ES': 2307085,\n",
       " 'FI': 36423,\n",
       " 'FR': 5054700,\n",
       " 'GR': 10273,\n",
       " 'HK': 1353161,\n",
       " 'HU': 238088,\n",
       " 'ID': 1217185,\n",
       " 'IE': 642770,\n",
       " 'IL': 33292,\n",
       " 'IN': 9667936,\n",
       " 'IT': 3077605,\n",
       " 'JP': 17442207,\n",
       " 'KR': 320482,\n",
       " 'KW': 15047,\n",
       " 'LU': 52093,\n",
       " 'MA': 24507,\n",
       " 'MX': 2946933,\n",
       " 'MY': 420173,\n",
       " 'NG': 23165,\n",
       " 'NL': 3890915,\n",
       " 'NO': 158773,\n",
       " 'NZ': 1293103,\n",
       " 'OM': 18054,\n",
       " 'PA': 11923,\n",
       " 'PE': 180048,\n",
       " 'PH': 219575,\n",
       " 'PK': 49765,\n",
       " 'PL': 898185,\n",
       " 'PT': 184764,\n",
       " 'QA': 57585,\n",
       " 'RO': 89077,\n",
       " 'RU': 2300111,\n",
       " 'SA': 40023,\n",
       " 'SE': 1862083,\n",
       " 'SG': 1744935,\n",
       " 'TH': 96937,\n",
       " 'TR': 464549,\n",
       " 'TW': 476362,\n",
       " 'UA': 47174,\n",
       " 'UK': 7151747,\n",
       " 'US': 31857789,\n",
       " 'UY': 2507,\n",
       " 'VE': 6481,\n",
       " 'VN': 243770,\n",
       " 'ZA': 739147}"
      ]
     },
     "execution_count": 124,
     "metadata": {},
     "output_type": "execute_result"
    }
   ],
   "source": [
    "budget['updated_annual_budget'].to_dict()"
   ]
  },
  {
   "cell_type": "code",
   "execution_count": 116,
   "metadata": {
    "collapsed": true
   },
   "outputs": [],
   "source": [
    "import mysqlconnect\n",
    "def get_budget(year):\n",
    "    qry = (\"SELECT country, SUM(budget) as Budget, SUM(traffic) as Traffic FROM t_budget_traffic \"\n",
    "           \"WHERE `last_update`>='{0}-01-01' and `last_update`<='{0}-12-31' and \"\n",
    "           \"approval_status_marketing='APPROVED' and approval_status_international='APPROVED' and \"\n",
    "           \"approval_status_finance='APPROVED' GROUP BY country;\".format(year))\n",
    "    goals = mysqlconnect.fetch_data(qry, df=True)\n",
    "    goals = goals[['country', 'Budget']]\n",
    "    goals['Budget'] = goals['Budget'].astype(int)\n",
    "    goals = goals.set_index('country')['Budget'].to_dict()\n",
    "    final = {}\n",
    "    for i in goals:\n",
    "        final[i] = goals[i]\n",
    "    return final"
   ]
  },
  {
   "cell_type": "code",
   "execution_count": 117,
   "metadata": {},
   "outputs": [
    {
     "data": {
      "text/plain": [
       "{u'AE': 750000,\n",
       " u'AR': 70068,\n",
       " u'AT': 534421,\n",
       " u'AU': 10000000,\n",
       " u'BE': 1100000,\n",
       " u'BH': 13172,\n",
       " u'BR': 2100000,\n",
       " u'CA': 2200000,\n",
       " u'CH': 2000000,\n",
       " u'CL': 166310,\n",
       " u'CN': 0,\n",
       " u'CO': 0,\n",
       " u'CR': 0,\n",
       " u'CZ': 281792,\n",
       " u'DE': 15000000,\n",
       " u'DK': 129980,\n",
       " u'EC': 0,\n",
       " u'EG': 45205,\n",
       " u'ES': 2390000,\n",
       " u'FI': 26000,\n",
       " u'FR': 4270000,\n",
       " u'GR': 0,\n",
       " u'HK': 1500000,\n",
       " u'HU': 205791,\n",
       " u'ID': 1125000,\n",
       " u'IE': 650922,\n",
       " u'IL': 0,\n",
       " u'IN': 8640000,\n",
       " u'IT': 3100000,\n",
       " u'JP': 17560000,\n",
       " u'KR': 300615,\n",
       " u'KW': 0,\n",
       " u'LU': 50687,\n",
       " u'MA': 0,\n",
       " u'MX': 2800000,\n",
       " u'MY': 422980,\n",
       " u'NG': 0,\n",
       " u'NL': 4250000,\n",
       " u'NO': 132666,\n",
       " u'NZ': 1250000,\n",
       " u'OM': 0,\n",
       " u'PA': 0,\n",
       " u'PE': 72873,\n",
       " u'PH': 134309,\n",
       " u'PK': 0,\n",
       " u'PL': 1000000,\n",
       " u'PT': 116292,\n",
       " u'QA': 57721,\n",
       " u'RO': 0,\n",
       " u'RU': 1620000,\n",
       " u'SA': 0,\n",
       " u'SE': 1950000,\n",
       " u'SG': 1800000,\n",
       " u'TH': 15285,\n",
       " u'TR': 300273,\n",
       " u'TW': 463520,\n",
       " u'UA': 42809,\n",
       " u'UK': 7000000,\n",
       " u'US': 32220000,\n",
       " u'UY': 0,\n",
       " u'VE': 0,\n",
       " u'VN': 244971,\n",
       " u'ZA': 830000}"
      ]
     },
     "execution_count": 117,
     "metadata": {},
     "output_type": "execute_result"
    }
   ],
   "source": [
    "get_budget(2017)"
   ]
  },
  {
   "cell_type": "code",
   "execution_count": 125,
   "metadata": {
    "collapsed": true
   },
   "outputs": [],
   "source": [
    "import cPickle as pickle"
   ]
  },
  {
   "cell_type": "code",
   "execution_count": 126,
   "metadata": {
    "collapsed": true
   },
   "outputs": [],
   "source": [
    "def dict_to_pickle(dict_obj, file_name):\n",
    "    with open(file_name, 'wb') as pickle_file:\n",
    "        pickle.dump(dict_obj, pickle_file)\n",
    "\n",
    "\n",
    "def read_pickle(file_name):\n",
    "    try:\n",
    "        with open(file_name, 'rb') as pickle_file:\n",
    "            return pickle.load(pickle_file)\n",
    "    except:\n",
    "        return {}"
   ]
  },
  {
   "cell_type": "code",
   "execution_count": 127,
   "metadata": {
    "collapsed": true
   },
   "outputs": [],
   "source": [
    "def run_cache(expiry_time=90):\n",
    "    edit_time = os.stat('.cache.pickle').st_mtime\n",
    "    age = time.time() - edit_time\n",
    "    if age > expiry_time:\n",
    "        cache_data()"
   ]
  },
  {
   "cell_type": "code",
   "execution_count": null,
   "metadata": {
    "collapsed": true
   },
   "outputs": [],
   "source": []
  }
 ],
 "metadata": {
  "kernelspec": {
   "display_name": "Python 2 (scratch)",
   "language": "python",
   "name": "scratch"
  },
  "language_info": {
   "codemirror_mode": {
    "name": "ipython",
    "version": 2
   },
   "file_extension": ".py",
   "mimetype": "text/x-python",
   "name": "python",
   "nbconvert_exporter": "python",
   "pygments_lexer": "ipython2",
   "version": "2.7.9"
  }
 },
 "nbformat": 4,
 "nbformat_minor": 2
}
