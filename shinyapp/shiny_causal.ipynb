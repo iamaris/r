{
 "cells": [
  {
   "cell_type": "code",
   "execution_count": 41,
   "metadata": {},
   "outputs": [],
   "source": []
  },
  {
   "cell_type": "code",
   "execution_count": null,
   "metadata": {},
   "outputs": [],
   "source": [
    "suppressMessages(library(tidyr))\n",
    "suppressMessages(library(CausalImpact))\n"
   ]
  },
  {
   "cell_type": "code",
   "execution_count": null,
   "metadata": {},
   "outputs": [],
   "source": [
    "suppressMessages(library(pscl))\n",
    "suppressMessages(library(ggplot2))\n",
    "suppressMessages(require(pscl))\n",
    "suppressMessages(require(boot))"
   ]
  },
  {
   "cell_type": "code",
   "execution_count": null,
   "metadata": {},
   "outputs": [],
   "source": [
    "suppressMessages(library(repr))"
   ]
  },
  {
   "cell_type": "code",
   "execution_count": null,
   "metadata": {},
   "outputs": [],
   "source": [
    "suppressMessages(library(dplyr))"
   ]
  },
  {
   "cell_type": "code",
   "execution_count": null,
   "metadata": {},
   "outputs": [],
   "source": [
    "suppressMessages(library(reshape))"
   ]
  },
  {
   "cell_type": "code",
   "execution_count": null,
   "metadata": {},
   "outputs": [],
   "source": []
  },
  {
   "cell_type": "code",
   "execution_count": null,
   "metadata": {},
   "outputs": [],
   "source": [
    "save_tsv <- function(data, name, start){\n",
    "    tmp <- data$series\n",
    "    time.points <- seq.Date(as.Date(start), by = 1, length.out = length(tmp$response))\n",
    "    tmp <- zoo(tmp, time.points)\n",
    "    write.table(tmp, name, sep=\"\\t\")\n",
    "}"
   ]
  },
  {
   "cell_type": "code",
   "execution_count": 95,
   "metadata": {},
   "outputs": [],
   "source": [
    "get_data <- function(start, end, country, grp) {\n",
    "    qry <- paste(sprintf(\"from usersession %s %s where \", start, end),\n",
    "                 sprintf(\"bot=0 country='%s' landing_page_type='acme_title_salaries' session_from='googleorg' group by time(1d) \", country),\n",
    "                 sprintf(\"select grp='%s', grp='acme_seo1_tst0', grp='acme_seo1_tst6', \", grp),\n",
    "                 \"grp='acme_seo1_tst9' \", sep='')\n",
    "   if(FALSE) {\n",
    "   qry <- paste(sprintf(\"from usersession %s %s where \", start, end),\n",
    "                 sprintf(\"bot=0 country='%s' landing_page_type='acme_title_salaries' session_from='googleorg' group by time(1d) \", country),\n",
    "                 sprintf(\"select grp='%s', \", grp),\n",
    "                 \"grp='acme_seo1_tst0' \", sep='')\n",
    "    }\n",
    "    print(qry)\n",
    "    data <- generic_iql(qry, suppress=TRUE)\n",
    "    rownames(data) <- data$time\n",
    "    names(data) <- c(\"time\", \"test\", \"control0\", \"control1\", \"control2\")\n",
    "    keep <- c(\"test\", \"control0\", \"control1\", \"control2\")\n",
    "    #names(data) <- c(\"time\", \"test\", \"control\")\n",
    "    #keep <- c(\"test\", \"control\")\n",
    "    time.points <- seq.Date(as.Date(start), by = 1, length.out = length(data$time))\n",
    "    data <- zoo(data[keep], time.points)\n",
    "    return (data)\n",
    "}"
   ]
  },
  {
   "cell_type": "code",
   "execution_count": 96,
   "metadata": {},
   "outputs": [],
   "source": [
    "predict <- function(start, end, intervention, country, grp) {\n",
    "    data <- get_data(start, end, country, grp)\n",
    "    pre.period <- as.Date(c(start, as.character(as.Date(intervention)-1)))\n",
    "    post.period <- as.Date(c(intervention, end))\n",
    "    impact <- CausalImpact(data, pre.period, post.period, alpha = 0.1)\n",
    "    return (impact)\n",
    "}"
   ]
  },
  {
   "cell_type": "code",
   "execution_count": 97,
   "metadata": {},
   "outputs": [],
   "source": [
    "results <- function(data) {\n",
    "    cat('posterior: ',format(round(100*(1 - data$summary[\"Cumulative\",\"p\"]), 2), nsmall=2), '\\n')\n",
    "    cat('cumulative effect: ', format(round(100*data$summary[\"Cumulative\",\"RelEffect\"], 2), nsmall=2), '\\n')\n",
    "    cat('cumulative effect lower: ', format(round(100*data$summary[\"Cumulative\",\"RelEffect.lower\"], 2), nsmall=2), '\\n')\n",
    "    cat('cumulative effect upper: ', format(round(100*data$summary[\"Cumulative\",\"RelEffect.upper\"], 2), nsmall=2), '\\n')\n",
    "}"
   ]
  },
  {
   "cell_type": "code",
   "execution_count": 98,
   "metadata": {},
   "outputs": [],
   "source": [
    "save_result <- function(data, end, filename='in.csv') {\n",
    "    data = c(end, \n",
    "             data$summary[\"Cumulative\",\"RelEffect\"],\n",
    "             data$summary[\"Cumulative\",\"RelEffect.lower\"],\n",
    "             data$summary[\"Cumulative\",\"RelEffect.upper\"], \n",
    "             1 - data$summary[\"Cumulative\",\"p\"])\n",
    "    write.csv(data, filename)\n",
    "}"
   ]
  },
  {
   "cell_type": "code",
   "execution_count": 99,
   "metadata": {},
   "outputs": [],
   "source": [
    "display <- function(data, intervention, end) {\n",
    "    results(data)\n",
    "}"
   ]
  },
  {
   "cell_type": "code",
   "execution_count": 104,
   "metadata": {},
   "outputs": [],
   "source": [
    "run <- function(start, end, intervention, country, grp) {\n",
    "    seo <- predict(start, end, intervention, country, grp) \n",
    "    display(seo, intervention, end)\n",
    "    options(repr.plot.width=8, repr.plot.height=5)\n",
    "    seo$summary\n",
    "    save_tsv(seo, 'test.tsv', start)\n",
    "    plot(seo, c(\"original\", \"pointwise\", \"cumulative\"))\n",
    "    #plot(seo$model$bsts.model, \"coefficients\")\n",
    "}"
   ]
  },
  {
   "cell_type": "code",
   "execution_count": 31,
   "metadata": {},
   "outputs": [],
   "source": [
    "generic_iql <- function(query, suppress=FALSE) {\n",
    "    if (suppress) {\n",
    "        data <- suppressMessages(iql(query))\n",
    "    } else {\n",
    "        data <- iql(query)\n",
    "    }\n",
    "    return (data)\n",
    "}"
   ]
  },
  {
   "cell_type": "code",
   "execution_count": 9,
   "metadata": {},
   "outputs": [
    {
     "name": "stderr",
     "output_type": "stream",
     "text": [
      "\n",
      "Listening on http://127.0.0.1:8080\n"
     ]
    }
   ],
   "source": [
    "suppressMessages(library(zoo))\n",
    "library(shiny)\n",
    "#suppressMessages(library(iqlr))\n",
    "suppressMessages(library(CausalImpact))\n",
    "suppressMessages(library(\"dplyr\"))\n",
    "\n",
    "clean_iql_date <- function(data) {\n",
    "    return (substr(data, start = 2, stop = 11))\n",
    "}\n",
    "\n",
    "show_results <- function(data) {\n",
    "    paste0(\n",
    "    paste('posterior: ',format(round(100*(1 - data$summary[\"Cumulative\",\"p\"]), 2), nsmall=2), '%\\n'),\n",
    "    paste('cumulative effect: ', format(round(100*data$summary[\"Cumulative\",\"RelEffect\"], 2), nsmall=2), '%\\n'),\n",
    "    paste('cumulative effect lower: ', format(round(100*data$summary[\"Cumulative\",\"RelEffect.lower\"], 2), nsmall=2), '%\\n'),\n",
    "    paste('cumulative effect upper: ', format(round(100*data$summary[\"Cumulative\",\"RelEffect.upper\"], 2), nsmall=2), '%\\n')\n",
    "    )\n",
    "}\n",
    "\n",
    "generic_iql <- function(query, suppress=FALSE) {\n",
    "    if (suppress) {\n",
    "        data <- suppressMessages(iql(query))\n",
    "    } else {\n",
    "        data <- iql(query)\n",
    "    }\n",
    "    return (data)\n",
    "}\n",
    "\n",
    "# Define UI for data upload app ----\n",
    "ui <- fluidPage(\n",
    "\n",
    "  # App title ----\n",
    "  titlePanel(\"Upload File\"),\n",
    "\n",
    "  # Sidebar layout with input and output definitions ----\n",
    "  sidebarLayout(\n",
    "\n",
    "    # Sidebar panel for inputs ----\n",
    "    sidebarPanel(\n",
    "\n",
    "      # Input: Select a file ----\n",
    "      fileInput(\"file1\", \"Choose CSV File\",\n",
    "                multiple = TRUE,\n",
    "                accept = c(\"text/csv\",\n",
    "                         \"text/comma-separated-values,text/plain\",\n",
    "                         \".csv\")),\n",
    "\n",
    "      # Horizontal line ----\n",
    "      tags$hr(),\n",
    "\n",
    "      # Input: Checkbox if file has header ----\n",
    "      checkboxInput(\"header\", \"File has header?\", TRUE),\n",
    "\n",
    "      # Input: Select separator ----\n",
    "      radioButtons(\"sep\", \"Separator\",\n",
    "                   choices = c(Tab = \"\\t\",\n",
    "                               Comma = \",\"),\n",
    "                   selected = \"\\t\"),\n",
    "\n",
    "      # Horizontal line ----\n",
    "      tags$hr(),\n",
    "      dateInput(\"intervention\", \"Intervention:\", value = \"2018-07-01\", format = \"yyyy-mm-dd\"),\n",
    "      numericInput(\"alpha\", \"alpha:\", 0.10, min = 0.1, max = 0.15, step=0.05)\n",
    "\n",
    "    ),\n",
    "\n",
    "    # Main panel for displaying outputs ----\n",
    "    mainPanel(\n",
    "\n",
    "    \n",
    "      # Output: Data file ----\n",
    "      plotOutput(\"plot1\"),\n",
    "      verbatimTextOutput(\"info\"),\n",
    "      tableOutput(\"final\")\n",
    "\n",
    "    )\n",
    "\n",
    "  )\n",
    ")\n",
    "\n",
    "\n",
    "# Define server logic to read selected file ----\n",
    "server <- function(input, output) {\n",
    "  \n",
    "  pull_data <- reactive({    \n",
    "      req(input$file1)  \n",
    "      df <- read.csv(input$file1$datapath,\n",
    "             header = input$header,\n",
    "             sep = input$sep,\n",
    "             quote = \"\")\n",
    "      df[c(1)] <- lapply(df[c(1)], clean_iql_date)\n",
    "      n_columns = ncol(df)\n",
    "      cols <- c(\"date\", \"test\")\n",
    "      for (i in 1:(n_columns - 2)) {\n",
    "        cols <- c(cols, paste0(\"control\", i))\n",
    "      }\n",
    "      names(df) <- cols\n",
    "      rownames(df) <- df$date\n",
    "      time.points <- seq.Date(as.Date(input$intervention), by = 1, length.out = length(df$date))\n",
    "      intervention <- as.character(input$intervention)\n",
    "      start <- df$date[1]\n",
    "      end <- df$date[length(df$date)]\n",
    "      for (i in 1:(n_columns - 1)) {\n",
    "          j = i + 1\n",
    "          df[, c(j)] =  as.numeric(df[, c(j)])  \n",
    "      }\n",
    "      df <- zoo(df, time.points)\n",
    "      return(df)\n",
    "  })\n",
    "\n",
    "        \n",
    "\n",
    "  ci <- reactive({      \n",
    "    req(input$file1)  \n",
    "    data <- read.csv(input$file1$datapath,\n",
    "             header = input$header,\n",
    "             sep = input$sep,\n",
    "             quote = \"\")\n",
    "    data[c(1)] <- lapply(data[c(1)], clean_iql_date)\n",
    "    start = as.character(data[c(1)][,1][1])\n",
    "    intervention = as.character(input$intervention)\n",
    "    end = as.character(data[c(1)][,1][nrow(data)])\n",
    "    pre.period <- as.Date(c(start, as.character(as.Date(intervention)-1)))\n",
    "    post.period <- as.Date(c(intervention, end))\n",
    "      \n",
    "    keep <- c()\n",
    "    for (i in 2:(ncol(data))) {\n",
    "        keep <- c(keep, i)\n",
    "    }\n",
    "\n",
    "    time.points <- seq.Date(as.Date(start), by = 1, length.out = nrow(data))\n",
    "    data <- zoo(data[keep], time.points)\n",
    "\n",
    "      \n",
    "    pre.period <- as.Date(c(start,  as.character(as.Date(intervention)-1)))\n",
    "    post.period <- as.Date(c(intervention, end))\n",
    "    cx <- CausalImpact(data, pre.period, post.period, alpha=input$alpha)\n",
    "\n",
    "    return(cx)\n",
    "\n",
    "  })\n",
    "    \n",
    "    \n",
    "  output$final <- renderTable({\n",
    "\n",
    "    # input$file1 will be NULL initially. After the user selects\n",
    "    # and uploads a file, head of that data file by default,\n",
    "    # or all rows if selected, will be shown.\n",
    "\n",
    "    df <- ci()\n",
    "    return(df$series)\n",
    "\n",
    "\n",
    "  })\n",
    "    \n",
    "  output$plot1 <-renderPlot({\n",
    "    plot(ci())\n",
    "  })\n",
    "    \n",
    "  output$info <- renderText({\n",
    "     data <- ci()\n",
    "     show_results(data)\n",
    "  })\n",
    "\n",
    "\n",
    "}\n",
    "\n",
    "# Create Shiny app ----\n",
    "shinyApp(ui, server, options=list(port = 8080))"
   ]
  },
  {
   "cell_type": "code",
   "execution_count": 287,
   "metadata": {},
   "outputs": [],
   "source": [
    "sample <- function() {\n",
    "    x <- read.csv('ci_test.tsv',\n",
    "             header = FALSE,\n",
    "             sep = '\\t',\n",
    "             quote = \"\")\n",
    "    x[c(1)] <- lapply(x[c(1)], clean_iql_date)\n",
    "    s <- as.character(x[c(1)][,1][1])\n",
    "    inter <- as.character(\"2018-07-01\")\n",
    "    e <- as.character(x[c(1)][,1][nrow(x)])\n",
    "\n",
    "    keep <- c()\n",
    "    for (i in 2:(ncol(x))) {\n",
    "        keep <- c(keep, i)\n",
    "    }\n",
    "    time.points <- seq.Date(as.Date(s), by = 1, length.out = nrow(x))\n",
    "    data <- zoo(x[keep], time.points)\n",
    "    \n",
    "    pre.period <- as.Date(c(s,  as.character(as.Date(inter)-1)))\n",
    "    post.period <- as.Date(c(inter, e))\n",
    "    cx <- CausalImpact(data, pre.period, post.period)\n",
    "    return(cx)\n",
    "    }"
   ]
  },
  {
   "cell_type": "code",
   "execution_count": 288,
   "metadata": {},
   "outputs": [
    {
     "data": {
      "text/plain": [
       "Posterior inference {CausalImpact}\n",
       "\n",
       "                         Average          Cumulative      \n",
       "Actual                   45842            458417          \n",
       "Prediction (s.d.)        5e+04 (935)      5e+05 (9351)    \n",
       "95% CI                   [47838, 51444]   [478383, 514437]\n",
       "                                                          \n",
       "Absolute effect (s.d.)   -3787 (935)      -37873 (9351)   \n",
       "95% CI                   [-5602, -1997]   [-56020, -19966]\n",
       "                                                          \n",
       "Relative effect (s.d.)   -7.6% (1.9%)     -7.6% (1.9%)    \n",
       "95% CI                   [-11%, -4%]      [-11%, -4%]     \n",
       "\n",
       "Posterior tail-area probability p:   0.00202\n",
       "Posterior prob. of a causal effect:  99.79818%\n",
       "\n",
       "For more details, type: summary(impact, \"report\")\n"
      ]
     },
     "metadata": {},
     "output_type": "display_data"
    }
   ],
   "source": [
    "sample()"
   ]
  },
  {
   "cell_type": "code",
   "execution_count": null,
   "metadata": {},
   "outputs": [],
   "source": [
    "#https://support.rstudio.com/hc/en-us/articles/213733868-Running-Shiny-Server-with-a-Proxy"
   ]
  },
  {
   "cell_type": "code",
   "execution_count": null,
   "metadata": {},
   "outputs": [],
   "source": []
  }
 ],
 "metadata": {
  "kernelspec": {
   "display_name": "R 3.4",
   "language": "R",
   "name": "ir34"
  },
  "language_info": {
   "codemirror_mode": "r",
   "file_extension": ".r",
   "mimetype": "text/x-r-source",
   "name": "R",
   "pygments_lexer": "r",
   "version": "3.4.4"
  }
 },
 "nbformat": 4,
 "nbformat_minor": 2
}
