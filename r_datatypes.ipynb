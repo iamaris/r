{
 "cells": [
  {
   "cell_type": "markdown",
   "metadata": {},
   "source": [
    "## R Data Type"
   ]
  },
  {
   "cell_type": "markdown",
   "metadata": {},
   "source": [
    "### vectors"
   ]
  },
  {
   "cell_type": "code",
   "execution_count": 1,
   "metadata": {
    "collapsed": true
   },
   "outputs": [],
   "source": [
    "w <- c(1, 3, 5, 7, 9)\n",
    "x <- c(1.1, 2.2 ,5.3, -2.1, 4.0) \n",
    "y <- c(\"cat\",\"dog\",\"bird\") \n",
    "z <- c(TRUE,TRUE,TRUE,FALSE,TRUE,FALSE) "
   ]
  },
  {
   "cell_type": "code",
   "execution_count": 2,
   "metadata": {},
   "outputs": [
    {
     "name": "stdout",
     "output_type": "stream",
     "text": [
      "[1] 1 3 5 7 9\n",
      "[1]  1.1  2.2  5.3 -2.1  4.0\n",
      "[1] \"cat\"  \"dog\"  \"bird\"\n",
      "[1]  TRUE  TRUE  TRUE FALSE  TRUE FALSE\n"
     ]
    }
   ],
   "source": [
    "print(w)\n",
    "print(x)\n",
    "print(y)\n",
    "print(z)"
   ]
  },
  {
   "cell_type": "code",
   "execution_count": 3,
   "metadata": {},
   "outputs": [
    {
     "data": {
      "text/html": [
       "<ol class=list-inline>\n",
       "\t<li>2.2</li>\n",
       "\t<li>4</li>\n",
       "</ol>\n"
      ],
      "text/latex": [
       "\\begin{enumerate*}\n",
       "\\item 2.2\n",
       "\\item 4\n",
       "\\end{enumerate*}\n"
      ],
      "text/markdown": [
       "1. 2.2\n",
       "2. 4\n",
       "\n",
       "\n"
      ],
      "text/plain": [
       "[1] 2.2 4.0"
      ]
     },
     "metadata": {},
     "output_type": "display_data"
    }
   ],
   "source": [
    "# 2nd and 4th elements of vector\n",
    "x[c(2, 5)]"
   ]
  },
  {
   "cell_type": "code",
   "execution_count": 4,
   "metadata": {},
   "outputs": [
    {
     "data": {
      "text/html": [
       "1.1"
      ],
      "text/latex": [
       "1.1"
      ],
      "text/markdown": [
       "1.1"
      ],
      "text/plain": [
       "[1] 1.1"
      ]
     },
     "metadata": {},
     "output_type": "display_data"
    },
    {
     "data": {
      "text/html": [
       "<ol class=list-inline>\n",
       "\t<li>1.1</li>\n",
       "\t<li>2.2</li>\n",
       "\t<li>5.3</li>\n",
       "\t<li>-2.1</li>\n",
       "</ol>\n"
      ],
      "text/latex": [
       "\\begin{enumerate*}\n",
       "\\item 1.1\n",
       "\\item 2.2\n",
       "\\item 5.3\n",
       "\\item -2.1\n",
       "\\end{enumerate*}\n"
      ],
      "text/markdown": [
       "1. 1.1\n",
       "2. 2.2\n",
       "3. 5.3\n",
       "4. -2.1\n",
       "\n",
       "\n"
      ],
      "text/plain": [
       "[1]  1.1  2.2  5.3 -2.1"
      ]
     },
     "metadata": {},
     "output_type": "display_data"
    },
    {
     "data": {
      "text/plain": [
       "[1] NA"
      ]
     },
     "metadata": {},
     "output_type": "display_data"
    }
   ],
   "source": [
    "# Get ith element\n",
    "x[01] # R indices start on 1\n",
    "x[-5] # Negative index would strip the element whose position has the same absolute value as the negative index\n",
    "x[10] # If an index is out-of-range, the missing value will be reported as NA"
   ]
  },
  {
   "cell_type": "code",
   "execution_count": 5,
   "metadata": {},
   "outputs": [
    {
     "data": {
      "text/html": [
       "<ol class=list-inline>\n",
       "\t<li>1</li>\n",
       "\t<li>3</li>\n",
       "\t<li>5</li>\n",
       "\t<li>7</li>\n",
       "\t<li>9</li>\n",
       "\t<li>1.1</li>\n",
       "\t<li>2.2</li>\n",
       "\t<li>5.3</li>\n",
       "\t<li>-2.1</li>\n",
       "\t<li>4</li>\n",
       "</ol>\n"
      ],
      "text/latex": [
       "\\begin{enumerate*}\n",
       "\\item 1\n",
       "\\item 3\n",
       "\\item 5\n",
       "\\item 7\n",
       "\\item 9\n",
       "\\item 1.1\n",
       "\\item 2.2\n",
       "\\item 5.3\n",
       "\\item -2.1\n",
       "\\item 4\n",
       "\\end{enumerate*}\n"
      ],
      "text/markdown": [
       "1. 1\n",
       "2. 3\n",
       "3. 5\n",
       "4. 7\n",
       "5. 9\n",
       "6. 1.1\n",
       "7. 2.2\n",
       "8. 5.3\n",
       "9. -2.1\n",
       "10. 4\n",
       "\n",
       "\n"
      ],
      "text/plain": [
       " [1]  1.0  3.0  5.0  7.0  9.0  1.1  2.2  5.3 -2.1  4.0"
      ]
     },
     "metadata": {},
     "output_type": "display_data"
    },
    {
     "data": {
      "text/html": [
       "<ol class=list-inline>\n",
       "\t<li>100</li>\n",
       "\t<li>1.1</li>\n",
       "\t<li>2.2</li>\n",
       "\t<li>5.3</li>\n",
       "\t<li>-2.1</li>\n",
       "\t<li>4</li>\n",
       "</ol>\n"
      ],
      "text/latex": [
       "\\begin{enumerate*}\n",
       "\\item 100\n",
       "\\item 1.1\n",
       "\\item 2.2\n",
       "\\item 5.3\n",
       "\\item -2.1\n",
       "\\item 4\n",
       "\\end{enumerate*}\n"
      ],
      "text/markdown": [
       "1. 100\n",
       "2. 1.1\n",
       "3. 2.2\n",
       "4. 5.3\n",
       "5. -2.1\n",
       "6. 4\n",
       "\n",
       "\n"
      ],
      "text/plain": [
       "[1] 100.0   1.1   2.2   5.3  -2.1   4.0"
      ]
     },
     "metadata": {},
     "output_type": "display_data"
    },
    {
     "data": {
      "text/html": [
       "<ol class=list-inline>\n",
       "\t<li>'1.1'</li>\n",
       "\t<li>'2.2'</li>\n",
       "\t<li>'5.3'</li>\n",
       "\t<li>'-2.1'</li>\n",
       "\t<li>'4'</li>\n",
       "\t<li>'100'</li>\n",
       "</ol>\n"
      ],
      "text/latex": [
       "\\begin{enumerate*}\n",
       "\\item '1.1'\n",
       "\\item '2.2'\n",
       "\\item '5.3'\n",
       "\\item '-2.1'\n",
       "\\item '4'\n",
       "\\item '100'\n",
       "\\end{enumerate*}\n"
      ],
      "text/markdown": [
       "1. '1.1'\n",
       "2. '2.2'\n",
       "3. '5.3'\n",
       "4. '-2.1'\n",
       "5. '4'\n",
       "6. '100'\n",
       "\n",
       "\n"
      ],
      "text/plain": [
       "[1] \"1.1\"  \"2.2\"  \"5.3\"  \"-2.1\" \"4\"    \"100\" "
      ]
     },
     "metadata": {},
     "output_type": "display_data"
    }
   ],
   "source": [
    "# Other uses of c\n",
    "c(w, x) #concatenate two vectors\n",
    "c(100, x) #vector to a single element (or vice versa)\n",
    "c(x, '100') #beware of concatenating a different mode"
   ]
  },
  {
   "cell_type": "code",
   "execution_count": 6,
   "metadata": {},
   "outputs": [
    {
     "data": {
      "text/html": [
       "<ol class=list-inline>\n",
       "\t<li>1</li>\n",
       "\t<li>2</li>\n",
       "\t<li>3</li>\n",
       "\t<li>4</li>\n",
       "\t<li>5</li>\n",
       "\t<li>6</li>\n",
       "\t<li>7</li>\n",
       "\t<li>8</li>\n",
       "\t<li>9</li>\n",
       "\t<li>10</li>\n",
       "</ol>\n"
      ],
      "text/latex": [
       "\\begin{enumerate*}\n",
       "\\item 1\n",
       "\\item 2\n",
       "\\item 3\n",
       "\\item 4\n",
       "\\item 5\n",
       "\\item 6\n",
       "\\item 7\n",
       "\\item 8\n",
       "\\item 9\n",
       "\\item 10\n",
       "\\end{enumerate*}\n"
      ],
      "text/markdown": [
       "1. 1\n",
       "2. 2\n",
       "3. 3\n",
       "4. 4\n",
       "5. 5\n",
       "6. 6\n",
       "7. 7\n",
       "8. 8\n",
       "9. 9\n",
       "10. 10\n",
       "\n",
       "\n"
      ],
      "text/plain": [
       " [1]  1  2  3  4  5  6  7  8  9 10"
      ]
     },
     "metadata": {},
     "output_type": "display_data"
    },
    {
     "data": {
      "text/html": [
       "<ol class=list-inline>\n",
       "\t<li>0.5</li>\n",
       "\t<li>1</li>\n",
       "\t<li>1.5</li>\n",
       "\t<li>2</li>\n",
       "\t<li>2.5</li>\n",
       "\t<li>3</li>\n",
       "\t<li>3.5</li>\n",
       "\t<li>4</li>\n",
       "\t<li>4.5</li>\n",
       "\t<li>5</li>\n",
       "\t<li>5.5</li>\n",
       "\t<li>6</li>\n",
       "\t<li>6.5</li>\n",
       "\t<li>7</li>\n",
       "\t<li>7.5</li>\n",
       "\t<li>8</li>\n",
       "\t<li>8.5</li>\n",
       "\t<li>9</li>\n",
       "\t<li>9.5</li>\n",
       "\t<li>10</li>\n",
       "</ol>\n"
      ],
      "text/latex": [
       "\\begin{enumerate*}\n",
       "\\item 0.5\n",
       "\\item 1\n",
       "\\item 1.5\n",
       "\\item 2\n",
       "\\item 2.5\n",
       "\\item 3\n",
       "\\item 3.5\n",
       "\\item 4\n",
       "\\item 4.5\n",
       "\\item 5\n",
       "\\item 5.5\n",
       "\\item 6\n",
       "\\item 6.5\n",
       "\\item 7\n",
       "\\item 7.5\n",
       "\\item 8\n",
       "\\item 8.5\n",
       "\\item 9\n",
       "\\item 9.5\n",
       "\\item 10\n",
       "\\end{enumerate*}\n"
      ],
      "text/markdown": [
       "1. 0.5\n",
       "2. 1\n",
       "3. 1.5\n",
       "4. 2\n",
       "5. 2.5\n",
       "6. 3\n",
       "7. 3.5\n",
       "8. 4\n",
       "9. 4.5\n",
       "10. 5\n",
       "11. 5.5\n",
       "12. 6\n",
       "13. 6.5\n",
       "14. 7\n",
       "15. 7.5\n",
       "16. 8\n",
       "17. 8.5\n",
       "18. 9\n",
       "19. 9.5\n",
       "20. 10\n",
       "\n",
       "\n"
      ],
      "text/plain": [
       " [1]  0.5  1.0  1.5  2.0  2.5  3.0  3.5  4.0  4.5  5.0  5.5  6.0  6.5  7.0  7.5\n",
       "[16]  8.0  8.5  9.0  9.5 10.0"
      ]
     },
     "metadata": {},
     "output_type": "display_data"
    }
   ],
   "source": [
    "# Other ways of creating a vector\n",
    "m <- (1:10)\n",
    "n <- seq(0.5, 10, 0.5)\n",
    "m\n",
    "n"
   ]
  },
  {
   "cell_type": "code",
   "execution_count": 7,
   "metadata": {
    "collapsed": true
   },
   "outputs": [],
   "source": [
    "#Please check the help for c() and seq function (in R: ?c and ?seq)"
   ]
  },
  {
   "cell_type": "markdown",
   "metadata": {},
   "source": [
    "### Array"
   ]
  },
  {
   "cell_type": "code",
   "execution_count": 8,
   "metadata": {},
   "outputs": [
    {
     "data": {
      "text/html": [
       "<table>\n",
       "<tbody>\n",
       "\t<tr><td> 1</td><td> 2</td><td> 3</td><td> 4</td><td> 5</td></tr>\n",
       "\t<tr><td> 6</td><td> 7</td><td> 8</td><td> 9</td><td>10</td></tr>\n",
       "\t<tr><td>11</td><td>12</td><td>13</td><td>14</td><td>15</td></tr>\n",
       "\t<tr><td>16</td><td>17</td><td>18</td><td>19</td><td>20</td></tr>\n",
       "</tbody>\n",
       "</table>\n"
      ],
      "text/latex": [
       "\\begin{tabular}{lllll}\n",
       "\t  1 &  2 &  3 &  4 &  5\\\\\n",
       "\t  6 &  7 &  8 &  9 & 10\\\\\n",
       "\t 11 & 12 & 13 & 14 & 15\\\\\n",
       "\t 16 & 17 & 18 & 19 & 20\\\\\n",
       "\\end{tabular}\n"
      ],
      "text/markdown": [
       "\n",
       "|  1 |  2 |  3 |  4 |  5 | \n",
       "|  6 |  7 |  8 |  9 | 10 | \n",
       "| 11 | 12 | 13 | 14 | 15 | \n",
       "| 16 | 17 | 18 | 19 | 20 | \n",
       "\n",
       "\n"
      ],
      "text/plain": [
       "     [,1] [,2] [,3] [,4] [,5]\n",
       "[1,]  1    2    3    4    5  \n",
       "[2,]  6    7    8    9   10  \n",
       "[3,] 11   12   13   14   15  \n",
       "[4,] 16   17   18   19   20  "
      ]
     },
     "metadata": {},
     "output_type": "display_data"
    }
   ],
   "source": [
    "# matrix is a 2-d array\n",
    "# generates 4 x 5 numeric matrix \n",
    "matrix_a <- matrix(1:20, nrow=4, ncol=5, byrow=TRUE)\n",
    "matrix_a"
   ]
  },
  {
   "cell_type": "code",
   "execution_count": 9,
   "metadata": {},
   "outputs": [
    {
     "data": {
      "text/html": [
       "<table>\n",
       "<thead><tr><th></th><th scope=col>Col1</th><th scope=col>Col2</th></tr></thead>\n",
       "<tbody>\n",
       "\t<tr><th scope=row>Row1</th><td>1 </td><td> 9</td></tr>\n",
       "\t<tr><th scope=row>Row2</th><td>3 </td><td>12</td></tr>\n",
       "</tbody>\n",
       "</table>\n"
      ],
      "text/latex": [
       "\\begin{tabular}{r|ll}\n",
       "  & Col1 & Col2\\\\\n",
       "\\hline\n",
       "\tRow1 & 1  &  9\\\\\n",
       "\tRow2 & 3  & 12\\\\\n",
       "\\end{tabular}\n"
      ],
      "text/markdown": [
       "\n",
       "| <!--/--> | Col1 | Col2 | \n",
       "|---|---|\n",
       "| Row1 | 1  |  9 | \n",
       "| Row2 | 3  | 12 | \n",
       "\n",
       "\n"
      ],
      "text/plain": [
       "     Col1 Col2\n",
       "Row1 1     9  \n",
       "Row2 3    12  "
      ]
     },
     "metadata": {},
     "output_type": "display_data"
    }
   ],
   "source": [
    "# another example\n",
    "cells <- c(1,3,9,12)\n",
    "rnames <- c(\"Row1\", \"Row2\")\n",
    "cnames <- c(\"Col1\", \"Col2\") \n",
    "matrix_b <- matrix(cells, nrow=2, ncol=2, byrow=FALSE,\n",
    "dimnames <- list(rnames, cnames))\n",
    "matrix_b"
   ]
  },
  {
   "cell_type": "code",
   "execution_count": 10,
   "metadata": {},
   "outputs": [
    {
     "data": {
      "text/html": [
       "<ol class=list-inline>\n",
       "\t<li>4</li>\n",
       "\t<li>9</li>\n",
       "\t<li>14</li>\n",
       "\t<li>19</li>\n",
       "</ol>\n"
      ],
      "text/latex": [
       "\\begin{enumerate*}\n",
       "\\item 4\n",
       "\\item 9\n",
       "\\item 14\n",
       "\\item 19\n",
       "\\end{enumerate*}\n"
      ],
      "text/markdown": [
       "1. 4\n",
       "2. 9\n",
       "3. 14\n",
       "4. 19\n",
       "\n",
       "\n"
      ],
      "text/plain": [
       "[1]  4  9 14 19"
      ]
     },
     "metadata": {},
     "output_type": "display_data"
    },
    {
     "data": {
      "text/html": [
       "<ol class=list-inline>\n",
       "\t<li>11</li>\n",
       "\t<li>12</li>\n",
       "\t<li>13</li>\n",
       "\t<li>14</li>\n",
       "\t<li>15</li>\n",
       "</ol>\n"
      ],
      "text/latex": [
       "\\begin{enumerate*}\n",
       "\\item 11\n",
       "\\item 12\n",
       "\\item 13\n",
       "\\item 14\n",
       "\\item 15\n",
       "\\end{enumerate*}\n"
      ],
      "text/markdown": [
       "1. 11\n",
       "2. 12\n",
       "3. 13\n",
       "4. 14\n",
       "5. 15\n",
       "\n",
       "\n"
      ],
      "text/plain": [
       "[1] 11 12 13 14 15"
      ]
     },
     "metadata": {},
     "output_type": "display_data"
    },
    {
     "data": {
      "text/html": [
       "<table>\n",
       "<tbody>\n",
       "\t<tr><td> 6</td><td> 7</td><td> 8</td></tr>\n",
       "\t<tr><td>11</td><td>12</td><td>13</td></tr>\n",
       "\t<tr><td>16</td><td>17</td><td>18</td></tr>\n",
       "</tbody>\n",
       "</table>\n"
      ],
      "text/latex": [
       "\\begin{tabular}{lll}\n",
       "\t  6 &  7 &  8\\\\\n",
       "\t 11 & 12 & 13\\\\\n",
       "\t 16 & 17 & 18\\\\\n",
       "\\end{tabular}\n"
      ],
      "text/markdown": [
       "\n",
       "|  6 |  7 |  8 | \n",
       "| 11 | 12 | 13 | \n",
       "| 16 | 17 | 18 | \n",
       "\n",
       "\n"
      ],
      "text/plain": [
       "     [,1] [,2] [,3]\n",
       "[1,]  6    7    8  \n",
       "[2,] 11   12   13  \n",
       "[3,] 16   17   18  "
      ]
     },
     "metadata": {},
     "output_type": "display_data"
    }
   ],
   "source": [
    "matrix_a[,4] # 4th column of matrix\n",
    "matrix_a[3,] # 3rd row of matrix \n",
    "matrix_a[2:4,1:3] # rows 2,3,4 of columns 1,2,3"
   ]
  },
  {
   "cell_type": "code",
   "execution_count": 11,
   "metadata": {
    "collapsed": true
   },
   "outputs": [],
   "source": [
    "# higher dimension array\n",
    "name.x <- c('x1', 'x2')\n",
    "name.y <- c('y1', 'y2')\n",
    "name.z <- c('z1', 'z2')\n",
    "array_3d <- array((1:16), dim=c(2,2,2), dimnames=list(name.x, name.y, name.z))"
   ]
  },
  {
   "cell_type": "code",
   "execution_count": 12,
   "metadata": {},
   "outputs": [
    {
     "name": "stdout",
     "output_type": "stream",
     "text": [
      ", , z1\n",
      "\n",
      "   y1 y2\n",
      "x1  1  3\n",
      "x2  2  4\n",
      "\n",
      ", , z2\n",
      "\n",
      "   y1 y2\n",
      "x1  5  7\n",
      "x2  6  8\n",
      "\n"
     ]
    }
   ],
   "source": [
    "print(array_3d)"
   ]
  },
  {
   "cell_type": "code",
   "execution_count": 13,
   "metadata": {},
   "outputs": [
    {
     "data": {
      "text/html": [
       "FALSE"
      ],
      "text/latex": [
       "FALSE"
      ],
      "text/markdown": [
       "FALSE"
      ],
      "text/plain": [
       "[1] FALSE"
      ]
     },
     "metadata": {},
     "output_type": "display_data"
    },
    {
     "data": {
      "text/html": [
       "TRUE"
      ],
      "text/latex": [
       "TRUE"
      ],
      "text/markdown": [
       "TRUE"
      ],
      "text/plain": [
       "[1] TRUE"
      ]
     },
     "metadata": {},
     "output_type": "display_data"
    },
    {
     "data": {
      "text/html": [
       "TRUE"
      ],
      "text/latex": [
       "TRUE"
      ],
      "text/markdown": [
       "TRUE"
      ],
      "text/plain": [
       "[1] TRUE"
      ]
     },
     "metadata": {},
     "output_type": "display_data"
    }
   ],
   "source": [
    "# check if array\n",
    "is.array(w) # w is a vector\n",
    "is.array(matrix_b) # matrix_b is matrix\n",
    "is.array(as.array(w))"
   ]
  },
  {
   "cell_type": "markdown",
   "metadata": {},
   "source": [
    "## Data Frames"
   ]
  },
  {
   "cell_type": "code",
   "execution_count": 14,
   "metadata": {
    "collapsed": true
   },
   "outputs": [],
   "source": [
    "d <- c(1, 2, 3, 4)\n",
    "e <- c('a', 'b', 'c', 'd')\n",
    "f <- c(TRUE, FALSE, TRUE, FALSE)\n",
    "df <- data.frame(d, e, f)"
   ]
  },
  {
   "cell_type": "code",
   "execution_count": 15,
   "metadata": {},
   "outputs": [
    {
     "data": {
      "text/html": [
       "<table>\n",
       "<thead><tr><th scope=col>d</th><th scope=col>e</th><th scope=col>f</th></tr></thead>\n",
       "<tbody>\n",
       "\t<tr><td>1    </td><td>a    </td><td> TRUE</td></tr>\n",
       "\t<tr><td>2    </td><td>b    </td><td>FALSE</td></tr>\n",
       "\t<tr><td>3    </td><td>c    </td><td> TRUE</td></tr>\n",
       "\t<tr><td>4    </td><td>d    </td><td>FALSE</td></tr>\n",
       "</tbody>\n",
       "</table>\n"
      ],
      "text/latex": [
       "\\begin{tabular}{r|lll}\n",
       " d & e & f\\\\\n",
       "\\hline\n",
       "\t 1     & a     &  TRUE\\\\\n",
       "\t 2     & b     & FALSE\\\\\n",
       "\t 3     & c     &  TRUE\\\\\n",
       "\t 4     & d     & FALSE\\\\\n",
       "\\end{tabular}\n"
      ],
      "text/markdown": [
       "\n",
       "d | e | f | \n",
       "|---|---|---|---|\n",
       "| 1     | a     |  TRUE | \n",
       "| 2     | b     | FALSE | \n",
       "| 3     | c     |  TRUE | \n",
       "| 4     | d     | FALSE | \n",
       "\n",
       "\n"
      ],
      "text/plain": [
       "  d e f    \n",
       "1 1 a  TRUE\n",
       "2 2 b FALSE\n",
       "3 3 c  TRUE\n",
       "4 4 d FALSE"
      ]
     },
     "metadata": {},
     "output_type": "display_data"
    }
   ],
   "source": [
    "df"
   ]
  },
  {
   "cell_type": "code",
   "execution_count": 16,
   "metadata": {},
   "outputs": [
    {
     "data": {
      "text/html": [
       "<ol class=list-inline>\n",
       "\t<li>'id'</li>\n",
       "\t<li>'letter'</li>\n",
       "\t<li>'favorite'</li>\n",
       "</ol>\n"
      ],
      "text/latex": [
       "\\begin{enumerate*}\n",
       "\\item 'id'\n",
       "\\item 'letter'\n",
       "\\item 'favorite'\n",
       "\\end{enumerate*}\n"
      ],
      "text/markdown": [
       "1. 'id'\n",
       "2. 'letter'\n",
       "3. 'favorite'\n",
       "\n",
       "\n"
      ],
      "text/plain": [
       "[1] \"id\"       \"letter\"   \"favorite\""
      ]
     },
     "metadata": {},
     "output_type": "display_data"
    },
    {
     "data": {
      "text/html": [
       "<table>\n",
       "<thead><tr><th scope=col>id</th><th scope=col>letter</th><th scope=col>favorite</th></tr></thead>\n",
       "<tbody>\n",
       "\t<tr><td>1    </td><td>a    </td><td> TRUE</td></tr>\n",
       "\t<tr><td>2    </td><td>b    </td><td>FALSE</td></tr>\n",
       "\t<tr><td>3    </td><td>c    </td><td> TRUE</td></tr>\n",
       "\t<tr><td>4    </td><td>d    </td><td>FALSE</td></tr>\n",
       "</tbody>\n",
       "</table>\n"
      ],
      "text/latex": [
       "\\begin{tabular}{r|lll}\n",
       " id & letter & favorite\\\\\n",
       "\\hline\n",
       "\t 1     & a     &  TRUE\\\\\n",
       "\t 2     & b     & FALSE\\\\\n",
       "\t 3     & c     &  TRUE\\\\\n",
       "\t 4     & d     & FALSE\\\\\n",
       "\\end{tabular}\n"
      ],
      "text/markdown": [
       "\n",
       "id | letter | favorite | \n",
       "|---|---|---|---|\n",
       "| 1     | a     |  TRUE | \n",
       "| 2     | b     | FALSE | \n",
       "| 3     | c     |  TRUE | \n",
       "| 4     | d     | FALSE | \n",
       "\n",
       "\n"
      ],
      "text/plain": [
       "  id letter favorite\n",
       "1 1  a       TRUE   \n",
       "2 2  b      FALSE   \n",
       "3 3  c       TRUE   \n",
       "4 4  d      FALSE   "
      ]
     },
     "metadata": {},
     "output_type": "display_data"
    }
   ],
   "source": [
    "names(df) <- c(\"id\",\"letter\",\"favorite\") # rename columns\n",
    "#colnames(df) <-  c(\"id\",\"letter\",\"favorite\") # rename columns (another way)\n",
    "colnames(df) # get names of columns\n",
    "#names(df) # get names of columns (another way)\n",
    "df"
   ]
  },
  {
   "cell_type": "code",
   "execution_count": 17,
   "metadata": {},
   "outputs": [
    {
     "data": {
      "text/html": [
       "<table>\n",
       "<thead><tr><th scope=col>letter</th><th scope=col>favorite</th></tr></thead>\n",
       "<tbody>\n",
       "\t<tr><td>a    </td><td> TRUE</td></tr>\n",
       "\t<tr><td>b    </td><td>FALSE</td></tr>\n",
       "\t<tr><td>c    </td><td> TRUE</td></tr>\n",
       "\t<tr><td>d    </td><td>FALSE</td></tr>\n",
       "</tbody>\n",
       "</table>\n"
      ],
      "text/latex": [
       "\\begin{tabular}{r|ll}\n",
       " letter & favorite\\\\\n",
       "\\hline\n",
       "\t a     &  TRUE\\\\\n",
       "\t b     & FALSE\\\\\n",
       "\t c     &  TRUE\\\\\n",
       "\t d     & FALSE\\\\\n",
       "\\end{tabular}\n"
      ],
      "text/markdown": [
       "\n",
       "letter | favorite | \n",
       "|---|---|---|---|\n",
       "| a     |  TRUE | \n",
       "| b     | FALSE | \n",
       "| c     |  TRUE | \n",
       "| d     | FALSE | \n",
       "\n",
       "\n"
      ],
      "text/plain": [
       "  letter favorite\n",
       "1 a       TRUE   \n",
       "2 b      FALSE   \n",
       "3 c       TRUE   \n",
       "4 d      FALSE   "
      ]
     },
     "metadata": {},
     "output_type": "display_data"
    },
    {
     "data": {
      "text/html": [
       "<table>\n",
       "<thead><tr><th scope=col>id</th><th scope=col>favorite</th></tr></thead>\n",
       "<tbody>\n",
       "\t<tr><td>1    </td><td> TRUE</td></tr>\n",
       "\t<tr><td>2    </td><td>FALSE</td></tr>\n",
       "\t<tr><td>3    </td><td> TRUE</td></tr>\n",
       "\t<tr><td>4    </td><td>FALSE</td></tr>\n",
       "</tbody>\n",
       "</table>\n"
      ],
      "text/latex": [
       "\\begin{tabular}{r|ll}\n",
       " id & favorite\\\\\n",
       "\\hline\n",
       "\t 1     &  TRUE\\\\\n",
       "\t 2     & FALSE\\\\\n",
       "\t 3     &  TRUE\\\\\n",
       "\t 4     & FALSE\\\\\n",
       "\\end{tabular}\n"
      ],
      "text/markdown": [
       "\n",
       "id | favorite | \n",
       "|---|---|---|---|\n",
       "| 1     |  TRUE | \n",
       "| 2     | FALSE | \n",
       "| 3     |  TRUE | \n",
       "| 4     | FALSE | \n",
       "\n",
       "\n"
      ],
      "text/plain": [
       "  id favorite\n",
       "1 1   TRUE   \n",
       "2 2  FALSE   \n",
       "3 3   TRUE   \n",
       "4 4  FALSE   "
      ]
     },
     "metadata": {},
     "output_type": "display_data"
    },
    {
     "data": {
      "text/html": [
       "<ol class=list-inline>\n",
       "\t<li>1</li>\n",
       "\t<li>2</li>\n",
       "\t<li>3</li>\n",
       "\t<li>4</li>\n",
       "</ol>\n"
      ],
      "text/latex": [
       "\\begin{enumerate*}\n",
       "\\item 1\n",
       "\\item 2\n",
       "\\item 3\n",
       "\\item 4\n",
       "\\end{enumerate*}\n"
      ],
      "text/markdown": [
       "1. 1\n",
       "2. 2\n",
       "3. 3\n",
       "4. 4\n",
       "\n",
       "\n"
      ],
      "text/plain": [
       "[1] 1 2 3 4"
      ]
     },
     "metadata": {},
     "output_type": "display_data"
    }
   ],
   "source": [
    "df[2:3] # columns 2 and 3 of the data frame\n",
    "df[c(\"id\",\"favorite\")] # columns id and favorite of the data frame\n",
    "df$id # column id of the data frame"
   ]
  },
  {
   "cell_type": "markdown",
   "metadata": {},
   "source": [
    "## List"
   ]
  },
  {
   "cell_type": "code",
   "execution_count": 18,
   "metadata": {
    "collapsed": true
   },
   "outputs": [],
   "source": [
    "f <- list(name='Ada', age=1, fav_matrix=matrix_b, weight=20.3)\n",
    "g <- list(name='Gen', age=28, fav_matrix=NULL)"
   ]
  },
  {
   "cell_type": "code",
   "execution_count": 19,
   "metadata": {},
   "outputs": [
    {
     "data": {
      "text/html": [
       "<dl>\n",
       "\t<dt>$name</dt>\n",
       "\t\t<dd>'Ada'</dd>\n",
       "\t<dt>$age</dt>\n",
       "\t\t<dd>1</dd>\n",
       "\t<dt>$fav_matrix</dt>\n",
       "\t\t<dd><table>\n",
       "<thead><tr><th></th><th scope=col>Col1</th><th scope=col>Col2</th></tr></thead>\n",
       "<tbody>\n",
       "\t<tr><th scope=row>Row1</th><td>1 </td><td> 9</td></tr>\n",
       "\t<tr><th scope=row>Row2</th><td>3 </td><td>12</td></tr>\n",
       "</tbody>\n",
       "</table>\n",
       "</dd>\n",
       "\t<dt>$weight</dt>\n",
       "\t\t<dd>20.3</dd>\n",
       "</dl>\n"
      ],
      "text/latex": [
       "\\begin{description}\n",
       "\\item[\\$name] 'Ada'\n",
       "\\item[\\$age] 1\n",
       "\\item[\\$fav\\_matrix] \\begin{tabular}{r|ll}\n",
       "  & Col1 & Col2\\\\\n",
       "\\hline\n",
       "\tRow1 & 1  &  9\\\\\n",
       "\tRow2 & 3  & 12\\\\\n",
       "\\end{tabular}\n",
       "\n",
       "\\item[\\$weight] 20.3\n",
       "\\end{description}\n"
      ],
      "text/markdown": [
       "$name\n",
       ":   'Ada'\n",
       "$age\n",
       ":   1\n",
       "$fav_matrix\n",
       ":   \n",
       "| <!--/--> | Col1 | Col2 | \n",
       "|---|---|\n",
       "| Row1 | 1  |  9 | \n",
       "| Row2 | 3  | 12 | \n",
       "\n",
       "\n",
       "\n",
       "$weight\n",
       ":   20.3\n",
       "\n",
       "\n"
      ],
      "text/plain": [
       "$name\n",
       "[1] \"Ada\"\n",
       "\n",
       "$age\n",
       "[1] 1\n",
       "\n",
       "$fav_matrix\n",
       "     Col1 Col2\n",
       "Row1    1    9\n",
       "Row2    3   12\n",
       "\n",
       "$weight\n",
       "[1] 20.3\n"
      ]
     },
     "metadata": {},
     "output_type": "display_data"
    }
   ],
   "source": [
    "f"
   ]
  },
  {
   "cell_type": "code",
   "execution_count": 20,
   "metadata": {},
   "outputs": [],
   "source": [
    "# List of list\n",
    "h <- list(f, g, 'a', 1)"
   ]
  },
  {
   "cell_type": "code",
   "execution_count": 21,
   "metadata": {},
   "outputs": [
    {
     "data": {
      "text/html": [
       "'Gen'"
      ],
      "text/latex": [
       "'Gen'"
      ],
      "text/markdown": [
       "'Gen'"
      ],
      "text/plain": [
       "[1] \"Gen\""
      ]
     },
     "metadata": {},
     "output_type": "display_data"
    },
    {
     "data": {
      "text/html": [
       "28"
      ],
      "text/latex": [
       "28"
      ],
      "text/markdown": [
       "28"
      ],
      "text/plain": [
       "[1] 28"
      ]
     },
     "metadata": {},
     "output_type": "display_data"
    }
   ],
   "source": [
    "# accessing list elements\n",
    "h[[2]][[1]]\n",
    "h[c(2, 4)][[1]][[2]]"
   ]
  },
  {
   "cell_type": "code",
   "execution_count": 22,
   "metadata": {},
   "outputs": [
    {
     "data": {
      "text/plain": [
       "NULL"
      ]
     },
     "metadata": {},
     "output_type": "display_data"
    },
    {
     "data": {
      "text/html": [
       "<ol class=list-inline>\n",
       "\t<li>1.1</li>\n",
       "\t<li>2.2</li>\n",
       "\t<li>5.3</li>\n",
       "\t<li>-2.1</li>\n",
       "\t<li>4</li>\n",
       "</ol>\n"
      ],
      "text/latex": [
       "\\begin{enumerate*}\n",
       "\\item 1.1\n",
       "\\item 2.2\n",
       "\\item 5.3\n",
       "\\item -2.1\n",
       "\\item 4\n",
       "\\end{enumerate*}\n"
      ],
      "text/markdown": [
       "1. 1.1\n",
       "2. 2.2\n",
       "3. 5.3\n",
       "4. -2.1\n",
       "5. 4\n",
       "\n",
       "\n"
      ],
      "text/plain": [
       "[1]  1.1  2.2  5.3 -2.1  4.0"
      ]
     },
     "metadata": {},
     "output_type": "display_data"
    }
   ],
   "source": [
    "# You can name each elements of a list (can work similarly as dict in Python)\n",
    "q <- list(ww=w, xx=x)\n",
    "q[['x']]\n",
    "q$x"
   ]
  },
  {
   "cell_type": "code",
   "execution_count": 23,
   "metadata": {},
   "outputs": [
    {
     "data": {
      "text/html": [
       "<ol class=list-inline>\n",
       "\t<li>1</li>\n",
       "\t<li>3</li>\n",
       "\t<li>5</li>\n",
       "\t<li>7</li>\n",
       "\t<li>9</li>\n",
       "</ol>\n"
      ],
      "text/latex": [
       "\\begin{enumerate*}\n",
       "\\item 1\n",
       "\\item 3\n",
       "\\item 5\n",
       "\\item 7\n",
       "\\item 9\n",
       "\\end{enumerate*}\n"
      ],
      "text/markdown": [
       "1. 1\n",
       "2. 3\n",
       "3. 5\n",
       "4. 7\n",
       "5. 9\n",
       "\n",
       "\n"
      ],
      "text/plain": [
       "[1] 1 3 5 7 9"
      ]
     },
     "metadata": {},
     "output_type": "display_data"
    }
   ],
   "source": [
    "#attaching a list to the R search path, will enable access its members without explicitly mentioning the list\n",
    "attach(q)\n",
    "ww\n",
    "#It should to be detached for cleanup.\n",
    "detach(q)"
   ]
  },
  {
   "cell_type": "markdown",
   "metadata": {},
   "source": [
    "## Useful functions"
   ]
  },
  {
   "cell_type": "code",
   "execution_count": 24,
   "metadata": {},
   "outputs": [
    {
     "data": {
      "text/html": [
       "5"
      ],
      "text/latex": [
       "5"
      ],
      "text/markdown": [
       "5"
      ],
      "text/plain": [
       "[1] 5"
      ]
     },
     "metadata": {},
     "output_type": "display_data"
    }
   ],
   "source": [
    "# number of elements or components\n",
    "length(w) "
   ]
  },
  {
   "cell_type": "code",
   "execution_count": 25,
   "metadata": {},
   "outputs": [
    {
     "name": "stdout",
     "output_type": "stream",
     "text": [
      " int [1:4, 1:5] 1 6 11 16 2 7 12 17 3 8 ...\n",
      " num [1:5] 1 3 5 7 9\n",
      " num 1\n",
      " chr \"a\"\n"
     ]
    }
   ],
   "source": [
    "# structure of an object \n",
    "str(matrix_a) \n",
    "str(w)\n",
    "str(1)\n",
    "str('a')"
   ]
  },
  {
   "cell_type": "code",
   "execution_count": 26,
   "metadata": {},
   "outputs": [
    {
     "data": {
      "text/html": [
       "'matrix'"
      ],
      "text/latex": [
       "'matrix'"
      ],
      "text/markdown": [
       "'matrix'"
      ],
      "text/plain": [
       "[1] \"matrix\""
      ]
     },
     "metadata": {},
     "output_type": "display_data"
    },
    {
     "data": {
      "text/html": [
       "'numeric'"
      ],
      "text/latex": [
       "'numeric'"
      ],
      "text/markdown": [
       "'numeric'"
      ],
      "text/plain": [
       "[1] \"numeric\""
      ]
     },
     "metadata": {},
     "output_type": "display_data"
    },
    {
     "data": {
      "text/html": [
       "'character'"
      ],
      "text/latex": [
       "'character'"
      ],
      "text/markdown": [
       "'character'"
      ],
      "text/plain": [
       "[1] \"character\""
      ]
     },
     "metadata": {},
     "output_type": "display_data"
    },
    {
     "data": {
      "text/html": [
       "'logical'"
      ],
      "text/latex": [
       "'logical'"
      ],
      "text/markdown": [
       "'logical'"
      ],
      "text/plain": [
       "[1] \"logical\""
      ]
     },
     "metadata": {},
     "output_type": "display_data"
    },
    {
     "data": {
      "text/html": [
       "'data.frame'"
      ],
      "text/latex": [
       "'data.frame'"
      ],
      "text/markdown": [
       "'data.frame'"
      ],
      "text/plain": [
       "[1] \"data.frame\""
      ]
     },
     "metadata": {},
     "output_type": "display_data"
    }
   ],
   "source": [
    "# class or type of an object\n",
    "class(matrix_a)  \n",
    "class(x)\n",
    "class(y)\n",
    "class(z)\n",
    "class(df)"
   ]
  },
  {
   "cell_type": "code",
   "execution_count": 27,
   "metadata": {},
   "outputs": [
    {
     "data": {
      "text/html": [
       "<ol class=list-inline>\n",
       "\t<li>'array_3d'</li>\n",
       "\t<li>'cells'</li>\n",
       "\t<li>'cnames'</li>\n",
       "\t<li>'d'</li>\n",
       "\t<li>'df'</li>\n",
       "\t<li>'dimnames'</li>\n",
       "\t<li>'e'</li>\n",
       "\t<li>'f'</li>\n",
       "\t<li>'g'</li>\n",
       "\t<li>'h'</li>\n",
       "\t<li>'m'</li>\n",
       "\t<li>'matrix_a'</li>\n",
       "\t<li>'matrix_b'</li>\n",
       "\t<li>'n'</li>\n",
       "\t<li>'name.x'</li>\n",
       "\t<li>'name.y'</li>\n",
       "\t<li>'name.z'</li>\n",
       "\t<li>'q'</li>\n",
       "\t<li>'rnames'</li>\n",
       "\t<li>'w'</li>\n",
       "\t<li>'x'</li>\n",
       "\t<li>'y'</li>\n",
       "\t<li>'z'</li>\n",
       "</ol>\n"
      ],
      "text/latex": [
       "\\begin{enumerate*}\n",
       "\\item 'array\\_3d'\n",
       "\\item 'cells'\n",
       "\\item 'cnames'\n",
       "\\item 'd'\n",
       "\\item 'df'\n",
       "\\item 'dimnames'\n",
       "\\item 'e'\n",
       "\\item 'f'\n",
       "\\item 'g'\n",
       "\\item 'h'\n",
       "\\item 'm'\n",
       "\\item 'matrix\\_a'\n",
       "\\item 'matrix\\_b'\n",
       "\\item 'n'\n",
       "\\item 'name.x'\n",
       "\\item 'name.y'\n",
       "\\item 'name.z'\n",
       "\\item 'q'\n",
       "\\item 'rnames'\n",
       "\\item 'w'\n",
       "\\item 'x'\n",
       "\\item 'y'\n",
       "\\item 'z'\n",
       "\\end{enumerate*}\n"
      ],
      "text/markdown": [
       "1. 'array_3d'\n",
       "2. 'cells'\n",
       "3. 'cnames'\n",
       "4. 'd'\n",
       "5. 'df'\n",
       "6. 'dimnames'\n",
       "7. 'e'\n",
       "8. 'f'\n",
       "9. 'g'\n",
       "10. 'h'\n",
       "11. 'm'\n",
       "12. 'matrix_a'\n",
       "13. 'matrix_b'\n",
       "14. 'n'\n",
       "15. 'name.x'\n",
       "16. 'name.y'\n",
       "17. 'name.z'\n",
       "18. 'q'\n",
       "19. 'rnames'\n",
       "20. 'w'\n",
       "21. 'x'\n",
       "22. 'y'\n",
       "23. 'z'\n",
       "\n",
       "\n"
      ],
      "text/plain": [
       " [1] \"array_3d\" \"cells\"    \"cnames\"   \"d\"        \"df\"       \"dimnames\"\n",
       " [7] \"e\"        \"f\"        \"g\"        \"h\"        \"m\"        \"matrix_a\"\n",
       "[13] \"matrix_b\" \"n\"        \"name.x\"   \"name.y\"   \"name.z\"   \"q\"       \n",
       "[19] \"rnames\"   \"w\"        \"x\"        \"y\"        \"z\"       "
      ]
     },
     "metadata": {},
     "output_type": "display_data"
    }
   ],
   "source": [
    "# fix(w) #edit in place\n",
    "#new_w <- edit(w) # edit copy and save as newobject \n",
    "#rm(w)  # delete an object\n",
    "ls() #list current objects"
   ]
  },
  {
   "cell_type": "code",
   "execution_count": 28,
   "metadata": {
    "collapsed": true
   },
   "outputs": [],
   "source": [
    "#cbind(object, object, ...) # combine objects as columns\n",
    "#rbind(object, object, ...) # combine objects as rows "
   ]
  }
 ],
 "metadata": {
  "kernelspec": {
   "display_name": "R 3.3.2 mconda2-latest",
   "language": "R",
   "name": "r-condaenv"
  },
  "language_info": {
   "codemirror_mode": "r",
   "file_extension": ".r",
   "mimetype": "text/x-r-source",
   "name": "R",
   "pygments_lexer": "r",
   "version": "3.3.2"
  }
 },
 "nbformat": 4,
 "nbformat_minor": 2
}
